{
 "cells": [
  {
   "cell_type": "markdown",
   "id": "562762dd",
   "metadata": {},
   "source": [
    "# Проект \"Аналитика благотворительного фонда АиФ Доброе сердце\""
   ]
  },
  {
   "cell_type": "markdown",
   "id": "d2c3fade-d26d-41aa-9e53-0b25d1277a42",
   "metadata": {},
   "source": [
    "**Описание:**\n",
    "\n",
    "Благотворительный фонд \"АиФ Доброе сердце\" хочет лучше узнать своих благотворителей, чтобы максимально эффективно выстроить свою работу с ними. \n",
    "У фонда есть «старожилы» - доноры, которые достаточно давно с фондом и одной из задач будет изучение их поведения: активны ли они, делают ли пожертвования и как реагируют на активность фонда?  \n",
    "\n",
    "**Цели исследования:**\n",
    "\n",
    "- проанализировать имеющиеся данные; \n",
    "- проанализировать поведение доноров: в целом, исторических пользователей и новых пользователей отдельно; \n",
    "- составить портрет типичного пользователя: регион, поведение, др. параметры; \n",
    "- рассчитать метрики: пользовательские, маркетинговые, коммерческие;\n",
    "- сегментировать пользователей: RFM-анализ, описание сегментов;\n",
    "- изучить каналы привлечения пользователей и их эффективность;\n",
    "- изучить эффективность рассылок.\n",
    "\n",
    "**Задачи:**\n",
    "\n",
    "- провести исследовательский анализ данных;\n",
    "- составить RFM - анализ пользователей;\n",
    "- посчитать метрики пользователей;\n",
    "- формулирование выводов по полученным результатам, подготовка презентации.\n",
    "\n",
    "\n"
   ]
  },
  {
   "cell_type": "markdown",
   "id": "2618ff89-6813-44a3-b9e8-65a4427ef6d8",
   "metadata": {},
   "source": [
    "**Ход исследовия:**\n",
    "\n",
    "- прочитать данные из файла и сохранить в датафремы;\n",
    "- обзор и преобработка входных данных;\n",
    "- исследовательский анализ данных;\n",
    "- расчет метрик;\n",
    "- RFM - анализ;\n",
    "- когортный анализ;\n",
    "- проверка гипотез;\n",
    "- формулирование выводов по полученным результатам;\n",
    "- подготовка презентацииации."
   ]
  },
  {
   "cell_type": "markdown",
   "id": "90fe3b22-888c-45bd-8a7e-07908ee05695",
   "metadata": {},
   "source": [
    "## Описание данных\n",
    "\n",
    "**Файл** `id_donor.csv` - информация о донорах:\n",
    "\n",
    "- `CustomerCustomFieldsRecurrent` - рекуррент да / нет;\n",
    "- `CustomerCustomFieldsVolunteer` - волонтер да / нет;\n",
    "- `CustomerSex` - пол пользователя;\n",
    "- `CustomerAreaIdsExternalId` - идентификатор региона пользователя;\n",
    "- `CustomerAreaName` - название региона пользователя;\n",
    "- `CustomerIanaTimeZone` - часовой пояс пользователя;\n",
    "- `CustomerTimeZoneSource` - источник данных о часовом поясе;\n",
    "- `CustomerIdsMindboxId` - идентификатор пользователя;\n",
    "- `CustomerIsEmailInvalid` - почта невалидна да / нет;\n",
    "- `CustomerChangeDateTimeUtc` - дата регистрации / редактирования;\n",
    "- `CustomerCustomerSubscriptions DobroaifIsSubscribed` - подписка;\n",
    "- `CustomerCustomerSubscriptions DobroaifSmsIsSubscribed` - подписка в точке контакта SMS;\n",
    "- `CustomerCustomerSubscriptions DobroaifEmailIsSubscribed` - подписка в точке контакта email;\n",
    "- `CustomerCustomerSubscriptions DobroaifViberIsSubscribed` - подписка в точке контакта Viber;\n",
    "- `CustomerCustomerSubscriptions DobroaifMobilePushIsSubscribed` - подписка в точке контакта Mobile Push;\n",
    "- `CustomerCustomerSubscriptions DobroaifWebPushIsSubscribed` - подписка в точке контакта Web Push.\n",
    "\n",
    " \n",
    "**Файл** `order.csv` - информация о пожертвованиях:\n",
    "\n",
    "- `OrderIdsMindboxId` - идентификатор платежа;\n",
    "- `OrderFirstActionIdsMindboxId` - идентификатор действия;\n",
    "- `OrderFirstActionDateTimeUtc` - дата и время оформления заказа;\n",
    "- `OrderFirstActionChannelIdsMindboxId` - идентификатор точки контакта;\n",
    "- `OrderFirstActionChannelIdsExternalId` - внешний идентификатор точки контакта;\n",
    "- `OrderFirstActionChannelName` - наименование точки контакта;\n",
    "- `OrderAreaIdsExternalId` - идентификатор региона пользователя;\n",
    "- `OrderTransactionIdsExternalId` - внешний идентификатор транзакции;\n",
    "- `OrderTotalPrice` - стоимость заказа;\n",
    "- `OrderIdsWebsiteID` - идентификатор заказа на сайте;\n",
    "- `OrderCustomFieldsNewyear` - наличие поля с новым годом;\n",
    "- `OrderCustomFieldsNextPayDate` - дата следующего списания денег;\n",
    "- `OrderCustomFieldsRecurrent` - рекурент да / нет;\n",
    "- `OrderCustomFieldsRepayment` - повторный платеж;\n",
    "- `OrderLineProductIdsWebsite` - идентификатор продукта на сайте;\n",
    "- `OrderLineProductName` - название продукта;\n",
    "- `OrderLineQuantity` - количество единиц продукта;\n",
    "- `OrderLineBasePricePerItem` - базовая цена за единицу продукта;\n",
    "- `OrderLinePriceOfLine` - итоговая цена;\n",
    "- `OrderLineStatusIdsExternalId` - идентификатор статуса позиции заказа;\n",
    "- `OrderCustomerIdsMindboxId` - идентификатор пользователя.\n",
    "\n",
    "\n",
    "**Файл** `import.csv` - информация об историческом импорте:\n",
    "\n",
    "- `CustomerActionCustomerIdsMindboxId` - идентификатор пользователя.\n",
    "\n",
    "\n",
    "**Файл** `channels.pkl` - информация о каналах привлечения:\n",
    "\n",
    "- `User_action` - название действия пользователя;\n",
    "- `Action_date` - дата действия пользователя;\n",
    "- `Channel_id` - идентификатор канала (описание в текстовом файле);\n",
    "- `Utm_campaign` - кампания;\n",
    "- `Utm_source` - ресурс;\n",
    "- `Utm_medium` - что-то дублирующееся;\n",
    "- `User_id` - идентификатор пользователя;\n",
    "- `Action_time` - час действия пользователя.\n",
    "\n",
    " \n"
   ]
  },
  {
   "cell_type": "markdown",
   "id": "15b4c6b1",
   "metadata": {},
   "source": [
    "## Настройка рабочей среды"
   ]
  },
  {
   "cell_type": "code",
   "execution_count": 1,
   "id": "65dca545",
   "metadata": {},
   "outputs": [],
   "source": [
    "# Подгрузка модулей\n",
    "import json\n",
    "import math\n",
    "import matplotlib.dates as mdates\n",
    "import numpy as np\n",
    "import pandas as pd\n",
    "import plotly.express as px\n",
    "import plotly.graph_objects as go\n",
    "import re\n",
    "import scipy.stats as stats\n",
    "import seaborn as sns\n",
    "\n",
    "from datetime import datetime, timedelta\n",
    "from dateutil.relativedelta import relativedelta\n",
    "from matplotlib import gridspec\n",
    "from matplotlib import pyplot as plt\n",
    "from plotly.subplots import make_subplots\n",
    "\n",
    "from operator import attrgetter\n",
    "\n",
    "#from ydata_profiling import ProfileReport\n",
    "\n",
    "import warnings\n",
    "warnings.simplefilter(\"ignore\", category=FutureWarning)"
   ]
  },
  {
   "cell_type": "markdown",
   "id": "edb6b9ed",
   "metadata": {},
   "source": [
    "## Глобальные переменные"
   ]
  },
  {
   "cell_type": "code",
   "execution_count": 2,
   "id": "04cf8ef1",
   "metadata": {},
   "outputs": [],
   "source": [
    "path_dir = 'datasets/'\n",
    "\n",
    "start_date = datetime(2024, 3, 19)\n",
    "\n",
    "# Уровень статистической значимости\n",
    "alpha = 0.05\n",
    "\n",
    "# момент анализа\n",
    "observation_date = start_date.date()\n",
    "# горизонт анализа\n",
    "horizon_months = 14  \n",
    "\n",
    "\n",
    "pd.set_option('display.max_columns', None)\n",
    "pd.options.display.max_colwidth = None\n",
    "pd.set_option('future.no_silent_downcasting', True)\n",
    "\n",
    "dict_part_of_day = {\n",
    "    0: 'ночь - 0:00-6:00', \n",
    "    1: 'утро - 6:00-12:00', \n",
    "    2: 'день - 12:00-18:00', \n",
    "    3: 'вечер - 18:00-24:00', \n",
    "}\n"
   ]
  },
  {
   "cell_type": "code",
   "execution_count": 3,
   "id": "f81c1fdd-7aad-4b59-9fd1-1ab933521f71",
   "metadata": {},
   "outputs": [],
   "source": [
    "# Данные для RFM - анализа\n",
    "rfm_data = pd.DataFrame(\n",
    "    {\n",
    "        'RFM': [\n",
    "            '111', '112', '113', '121', '122', '123', '131', '132', '133', '211', '212', '213',\n",
    "            '221', '222', '223', '231', '232', '233', '311', '312', '313', '321', '322', '323',\n",
    "            '331', '332', '333'\n",
    "        ],\n",
    "        'Определение сегмента': [\n",
    "            'Недавно покупавшие частые с высоким чеком', 'Недавно покупавшие частые со средним чеком', \n",
    "            'Недавно покупавшие частые с низким чеком', 'Недавно покупавшие редкие с высоким чеком', \n",
    "            'Недавно покупавшие редкие со средним чеком', 'Недавно покупавшие редкие с низким чеком', \n",
    "            'Недавно покупавшие разовые с высоким чеком', 'Недавно покупавшие разовые со средним чеком', \n",
    "            'Недавно покупавшие разовые с низким чеком', 'Спящие частые с высоким чеком', \n",
    "            'Спящие частые со средним чеком', 'Спящие частые с низким чеком', \n",
    "            'Спящие редкие с высоким чеком', 'Спящие редкие со средним чеком', \n",
    "            'Спящие редкие с низким чеком', 'Спящие разовые с высоким чеком', \n",
    "            'Спящие разовые со средним чеком', 'Спящие разовые с низким чеком', \n",
    "            'Давние частые с высоким чеком', 'Давние частые со средним чеком', \n",
    "            'Давние частые с низким чеком', 'Давние редкие с высоким чеком', \n",
    "            'Давние редкие со средним чеком', 'Давние редкие с низким чеком', \n",
    "            'Давние разовые с высоким чеком', 'Давние разовые со средним чеком', \n",
    "            'Давние разовые с низким чеком'\n",
    "        ],\n",
    "        'Определение группы': [\n",
    "            'VIP', 'Выгодные', 'Выгодные', 'Потенциально выгодные', 'Потенциально выгодные', 'Новенькие', \n",
    "            'Новенькие', 'Новенькие', 'Новенькие', 'Спящие выгодные', 'Спящие выгодные', 'Спящие выгодные', \n",
    "            'Спящие выгодные', 'Спящие выгодные', 'Спящие', 'Спящие', 'Спящие', 'Спящие', 'Уходящие выгодные', \n",
    "            'Уходящие выгодные', 'Уходящие', 'Уходящие', 'Уходящие', 'Потерянные', 'Потерянные', \n",
    "            'Потерянные', 'Потерянные'\n",
    "        ]\n",
    "    }\n",
    ")"
   ]
  },
  {
   "cell_type": "markdown",
   "id": "ea854277",
   "metadata": {},
   "source": [
    "## Функции"
   ]
  },
  {
   "cell_type": "markdown",
   "id": "ed9ce62f",
   "metadata": {},
   "source": [
    "### Функции предварительно обработки данных"
   ]
  },
  {
   "cell_type": "markdown",
   "id": "57a5b0ba",
   "metadata": {},
   "source": [
    "#### Функция df_analysis()\n",
    "\n",
    "Функция для предварительного общего анализа датафрейма."
   ]
  },
  {
   "cell_type": "code",
   "execution_count": 4,
   "id": "4ef33ebc",
   "metadata": {},
   "outputs": [],
   "source": [
    "# Функция для предварительного общего анализа датафрейма\n",
    "def df_analysis(df):\n",
    "\n",
    "    # Отображение датафрейма df\n",
    "    display(df.head())\n",
    "    print('*'*100)\n",
    "\n",
    "    # Вывод основной информации о датафрейме df с помощью метода info().\n",
    "    display(df.info())\n",
    "    print('*'*100)\n",
    "\n",
    "    # Проверка количества пропусков в датафрейме  df\n",
    "    isna = df.isna().sum().reset_index(name='cnt').query('cnt > 0')\n",
    "    if isna.shape[0] == 0:\n",
    "        print('Пропусков в датафрейме нет.')  \n",
    "    else:\n",
    "        print('Пропуски в датафрейме:')  \n",
    "        display(isna)\n",
    "    print('*'*100)\n",
    "    \n",
    "    # Проверка количества дубликатов в датафрейме  df\n",
    "    duplicated = df.duplicated().sum()\n",
    "    print('Количество дубликатов в датафрейме: {}'.format(duplicated), end='')\n",
    "    # Подсчет процента дубликатов в датафрейме df\n",
    "    print(' ({:.2%} от общего количества записей).'.format(duplicated/df.shape[0]))    \n",
    "    print('*'*100)\n"
   ]
  },
  {
   "cell_type": "markdown",
   "id": "a674143b",
   "metadata": {},
   "source": [
    "#### Функция df_column_astype()\n",
    "\n",
    "Функция для преобразования типа данных у списка столбцов."
   ]
  },
  {
   "cell_type": "code",
   "execution_count": 5,
   "id": "418f3af6",
   "metadata": {},
   "outputs": [],
   "source": [
    "def df_column_astype(df, change_type):\n",
    "\n",
    "    for column in change_type:\n",
    "        df[column] = df[column].astype(change_type[column])\n"
   ]
  },
  {
   "cell_type": "markdown",
   "id": "1731437e-ed5e-4a7c-8aed-5ab135ddaedb",
   "metadata": {},
   "source": [
    "####  Функция df_describe_by_parameter()\n",
    "\n",
    "Функция для получения статистических характеристик по столбцу"
   ]
  },
  {
   "cell_type": "code",
   "execution_count": 6,
   "id": "67c391b1",
   "metadata": {},
   "outputs": [],
   "source": [
    "def df_describe_by_parameter(df, column):\n",
    "\n",
    "    cnt = int((df[column].describe())['count'])\n",
    "    q1 = round((df[column].describe())['25%'], 2)\n",
    "    q3 = round((df[column].describe())['75%'], 2)\n",
    "    mean = round((df[column].describe())['mean'], 2)\n",
    "    median = round((df[column].describe())['50%'], 2)\n",
    "    q_min = round((df[column].describe())['min'], 2)\n",
    "    q_max = round((df[column].describe())['max'], 2)\n",
    "\n",
    "    print('Всего значений: {0}'.format(cnt))\n",
    "    print()\n",
    "    print('Среднее арифметическое значение: {0}'.format(mean))\n",
    "    print('Медианное значение: {0}'.format(median))\n",
    "    print('В среднем значения варьируются от {0} до {1}'.format(q1, q3))\n",
    "    print('Минимальное значение {0}'.format(q_min))   \n",
    "    print('Максимальное значение {0}'.format(q_max))        "
   ]
  },
  {
   "cell_type": "markdown",
   "id": "2a0cfea0",
   "metadata": {},
   "source": [
    "#### Функция df_duplicated_info()\n",
    "\n",
    "Функция для поиска статистики по дубликатам в датафрейме."
   ]
  },
  {
   "cell_type": "code",
   "execution_count": 7,
   "id": "2ace6258",
   "metadata": {},
   "outputs": [],
   "source": [
    "def df_duplicated_info(df):\n",
    "    # Проверка количества дубликатов в датафрейме  df\n",
    "    cnt = df.duplicated().sum()\n",
    "\n",
    "    print('Количество дубликатов в датафрейме: {0}'.format(cnt), end='')\n",
    "\n",
    "    # Подсчет процента дубликатов в датафрейме df\n",
    "    print(' ({:.2%} от общего количества записей).'.format(cnt/df.shape[0]))    "
   ]
  },
  {
   "cell_type": "markdown",
   "id": "eac961f2",
   "metadata": {},
   "source": [
    "#### Функция df_isna_info()\n",
    "\n",
    "Функция для поиска статистики по пропускам в датафрейме."
   ]
  },
  {
   "cell_type": "code",
   "execution_count": 8,
   "id": "9913ba94",
   "metadata": {},
   "outputs": [],
   "source": [
    "def df_isna_info(df):\n",
    "    # Проверка количества пропусков в датафрейме  df\n",
    "    isna = df.isna().sum().reset_index(name='cnt').query('cnt > 0')\n",
    "    isna['percent'] = ((isna['cnt'] / len(df)) * 100).map(lambda x: f\"{x:.2f}%\")\n",
    "    \n",
    "    if isna.shape[0] == 0:\n",
    "        print('Пропусков в датафрейме нет.')  \n",
    "    else:\n",
    "        print('Пропуски в датафрейме:')  \n",
    "        display(isna)"
   ]
  },
  {
   "cell_type": "markdown",
   "id": "f6f02a9f-08ca-42b0-8477-132a98108798",
   "metadata": {},
   "source": [
    "#### Функция read_csv_file()"
   ]
  },
  {
   "cell_type": "code",
   "execution_count": 9,
   "id": "2b38d10d-b9d8-482e-b7bb-fa51138d88de",
   "metadata": {},
   "outputs": [],
   "source": [
    "def read_csv_file(file_name):\n",
    "    # Чтение только заголовков\n",
    "    headers = pd.read_csv(file_name, encoding='cp1251', sep=';', nrows=0).columns\n",
    "    \n",
    "    # Обработка названий столбцов: удаление всего после знака \" =\"\n",
    "    cleaned_headers = [h.split(' =')[0].strip() for h in headers]\n",
    "    \n",
    "    # Загрузка данных с обновлёнными названиями столбцов\n",
    "    return pd.read_csv(file_name, encoding='cp1251', sep=';', names=cleaned_headers, header=0, low_memory=False)\n"
   ]
  },
  {
   "cell_type": "markdown",
   "id": "777ff211-6a1a-4b89-ae94-45235ec31ec1",
   "metadata": {},
   "source": [
    "#### Функция read_json_file()"
   ]
  },
  {
   "cell_type": "code",
   "execution_count": 10,
   "id": "f623df9b-9b76-4129-a293-462c5d43ee59",
   "metadata": {},
   "outputs": [],
   "source": [
    "def read_json_file(file_name):\n",
    "    # Чтение содержимого файла\n",
    "    with open(file_name, 'r', encoding='utf-8') as file:\n",
    "        file_content = file.read().replace(\"'\", '\"')\n",
    "\n",
    "    # Загрузка JSON и преобразование ключей в числа\n",
    "    data = json.loads(file_content, object_pairs_hook=lambda x: {int(k): v for k, v in x})\n",
    "    \n",
    "    return data\n"
   ]
  },
  {
   "cell_type": "markdown",
   "id": "be7fdfbf-bc50-443e-b765-449da5cba04b",
   "metadata": {},
   "source": [
    "#### Функция rank_value()\n",
    "\n"
   ]
  },
  {
   "cell_type": "code",
   "execution_count": 11,
   "id": "352f6acc-1851-425e-a7df-b36b5721f998",
   "metadata": {},
   "outputs": [],
   "source": [
    "def rank_value(df, column):\n",
    "    \n",
    "    q1 = (df[column].describe())['25%']\n",
    "    q3 = (df[column].describe())['75%']\n",
    "    \n",
    "    # Верхняя граница \"усов\" размаха\n",
    "    iqr_mx = round(q3 + 1.5 * (q3 - q1), 2)\n",
    "\n",
    "    bins = [0] + list(np.percentile(df.loc[df[column] < iqr_mx][column], [33, 66])) + [df[column].max()]\n",
    "    print('Разбиение клиентов на 3 сегмента по значению \"{}\": '.format(column), end='')\n",
    "\n",
    "    print(bins)\n",
    "    \n",
    "    return bins"
   ]
  },
  {
   "cell_type": "markdown",
   "id": "a61550af-53ea-4a40-a8bf-3e8f4cf17b48",
   "metadata": {},
   "source": [
    "#### Функция get_part_of_day()"
   ]
  },
  {
   "cell_type": "code",
   "execution_count": 12,
   "id": "09ccb875-86b6-4962-a613-c6a1c24a7392",
   "metadata": {},
   "outputs": [],
   "source": [
    "# Функция для определения части суток\n",
    "def get_part_of_day(hour):\n",
    "    if 0 <= hour < 6:\n",
    "        return 0\n",
    "    elif 6 <= hour < 12:\n",
    "        return 1\n",
    "    elif 12 <= hour < 18:\n",
    "        return 2\n",
    "    else:\n",
    "        return 3"
   ]
  },
  {
   "cell_type": "markdown",
   "id": "38293d26-ab26-4d4d-b2a6-f698fcbdc79a",
   "metadata": {},
   "source": [
    "#### Функция replace_sex()"
   ]
  },
  {
   "cell_type": "code",
   "execution_count": 13,
   "id": "95a50105-8bcc-4570-b6e0-2da90b437787",
   "metadata": {},
   "outputs": [],
   "source": [
    "def replace_sex(value):\n",
    "    if value == 'female':\n",
    "        return 'Ж'\n",
    "    elif value == 'male':\n",
    "        return 'М'\n",
    "    elif pd.isna(value):\n",
    "        return 'неизвестно'\n",
    "    else:\n",
    "        return value\n",
    "\n"
   ]
  },
  {
   "cell_type": "markdown",
   "id": "a03382b9-6938-4dc1-8817-8acc9a3251ee",
   "metadata": {},
   "source": [
    "#### Функция replace_bool()"
   ]
  },
  {
   "cell_type": "code",
   "execution_count": 14,
   "id": "a25ccdbc-5b4d-4d6e-bd62-0fbcbd5faae6",
   "metadata": {},
   "outputs": [],
   "source": [
    "def replace_bool(value):\n",
    "    if value == False:\n",
    "        return 'Нет'\n",
    "    elif value == True:\n",
    "        return 'Да'\n",
    "    else:\n",
    "        return value\n"
   ]
  },
  {
   "cell_type": "markdown",
   "id": "2f9fb092-b2b2-4311-bacf-7e2a96fd499e",
   "metadata": {},
   "source": [
    "#### Функция check_ttest_ind"
   ]
  },
  {
   "cell_type": "code",
   "execution_count": 15,
   "id": "643cac93-11ef-4864-be8c-c906dec8a265",
   "metadata": {},
   "outputs": [],
   "source": [
    "def check_ttest_ind(df1, df2, column, alternative):\n",
    "\n",
    "    results = stats.ttest_ind(df1[column], df2[column], alternative=alternative, equal_var=False)\n",
    "    \n",
    "    print(f'p-value: {results.pvalue}')\n",
    "    \n",
    "    # проверяем p-value\n",
    "    if results.pvalue < alpha:\n",
    "        print('Отвергаем нулевую гипотезу')\n",
    "    else:\n",
    "        print('Нет оснований отвергнуть нулевую гипотезу')"
   ]
  },
  {
   "cell_type": "code",
   "execution_count": 16,
   "id": "ba8474f3-4768-4327-8462-38b6dae3f4e6",
   "metadata": {},
   "outputs": [],
   "source": [
    "def transliterate(name):\n",
    "    cyrillic_to_latin = {\n",
    "        'а': 'a', 'б': 'b', 'в': 'v', 'г': 'g', 'д': 'd', 'е': 'e', 'ё': 'e', 'ж': 'zh',\n",
    "        'з': 'z', 'и': 'i', 'й': 'j', 'к': 'k', 'л': 'l', 'м': 'm', 'н': 'n', 'о': 'o',\n",
    "        'п': 'p', 'р': 'r', 'с': 's', 'т': 't', 'у': 'u', 'ф': 'f', 'х': 'kh', 'ц': 'ts',\n",
    "        'ч': 'ch', 'ш': 'sh', 'щ': 'shch', 'ы': 'y', 'э': 'e', 'ю': 'yu', 'я': 'ya', 'ь' : ''\n",
    "    }\n",
    "    transliterated_name = ''.join(cyrillic_to_latin.get(char, char) for char in name)\n",
    "    return transliterated_name\n",
    "\n",
    "def put_campaing_name(input_string):\n",
    "    # Шаблон для удаления конструкции\n",
    "    pattern = r'Пожертвование\\s+Благотворительный\\s+фонд\\s+«АиФ\\.\\s+Доброе сердце»\\s+'\n",
    "    \n",
    "    # Замена шаблонной части строки на пустую строку\n",
    "    cleaned_string = re.sub(pattern, '', input_string)\n",
    "    \n",
    "    # Проверка, выглядит ли строка как \"Имя Фамилия\"\n",
    "    if re.match(r'^[А-ЯЁ][а-яё]+\\s[А-ЯЁ][а-яё]+$', cleaned_string):\n",
    "        # Преобразование строки в транслит\n",
    "        transliterated_string = transliterate(cleaned_string.lower())\n",
    "        # Замена пробелов на дефисы\n",
    "        transliterated_string = transliterated_string.replace(' ', '-')\n",
    "        return transliterated_string\n",
    "    \n",
    "    return cleaned_string\n",
    "\n"
   ]
  },
  {
   "cell_type": "code",
   "execution_count": 17,
   "id": "8dd52bed-c237-476a-b0a4-89e5790d882a",
   "metadata": {},
   "outputs": [],
   "source": [
    "# Функция для проверки, является ли строка транслитом \"имя-фамилия\"\n",
    "def is_translit_name(name):\n",
    "    pattern = r'^[a-z]+-[a-z]+$'\n",
    "    return re.match(pattern, name) is not None\n"
   ]
  },
  {
   "cell_type": "markdown",
   "id": "e3d397cc",
   "metadata": {},
   "source": [
    "### Функции для графического отображения информации"
   ]
  },
  {
   "cell_type": "markdown",
   "id": "f9b65b43-0cab-44a9-8772-84df690a1669",
   "metadata": {},
   "source": [
    "#### Функция draw_bar()\n",
    "\n",
    "Функция для построения столбчатой диаграммы"
   ]
  },
  {
   "cell_type": "code",
   "execution_count": 18,
   "id": "34333418-1f66-41b2-8f16-df47a6fd6226",
   "metadata": {},
   "outputs": [],
   "source": [
    "# Функция для построения столбчатой диаграммы\n",
    "def draw_bar(df, x, y, title, xlabel, ylabel, is_top=False):\n",
    "\n",
    "    # Рассчитываем долю каждого значения\n",
    "    df['percentage'] = df[y] / df[y].sum() * 100\n",
    " \n",
    "    # Если нужно отобрать только топ-10 записей\n",
    "    if is_top:\n",
    "        df = df.sort_values(by=y, ascending=False).head(10)\n",
    "    else:\n",
    "        df = df.sort_values(by=y, ascending=False)\n",
    "    \n",
    "    # Простроение графика\n",
    "    fig = go.Figure()\n",
    "    \n",
    "    # Добавление столбчатой диаграммы\n",
    "    fig.add_trace(\n",
    "        go.Bar(\n",
    "            x=df[x], \n",
    "            y=df[y], \n",
    "            opacity=0.5, \n",
    "            text=df[y], \n",
    "            hovertemplate='%{x}<br>Значение: %{text}<br>Доля: %{customdata:.2f}%<extra></extra>', \n",
    "            customdata=df['percentage'], \n",
    "            showlegend=False,\n",
    "            hoverinfo=\"skip\"\n",
    "        )\n",
    "    )\n",
    "    \n",
    "    # Оформление графика\n",
    "    fig.update_layout(\n",
    "            xaxis_title=xlabel, \n",
    "            yaxis_title=ylabel, \n",
    "            title=title\n",
    "    )\n",
    "\n",
    "    # Вывод графика\n",
    "    fig.show() \n"
   ]
  },
  {
   "cell_type": "markdown",
   "id": "0261912a",
   "metadata": {},
   "source": [
    "#### Функция draw_bar_compare()\n",
    "\n",
    "Функция для построения двух столбчатых диаграмм для сравнения"
   ]
  },
  {
   "cell_type": "code",
   "execution_count": 19,
   "id": "a8210fe0-e89b-4a85-a979-64504eee83c9",
   "metadata": {},
   "outputs": [],
   "source": [
    "# Функция для построения двух столбчатых диаграмм для сравнения\n",
    "def draw_bar_compare(df, x, y1, y2, title, subtitle1, subtitle2, x_lable, y_lable):\n",
    "    \n",
    "    # Создаем график\n",
    "    fig = go.Figure()\n",
    "\n",
    "    # Построение первой столбчатой диаграммы\n",
    "    fig.add_trace(px.bar(df, x=x, y=y1, opacity=0.5, color_discrete_sequence=['blue'], labels={y1: subtitle1}, barmode='overlay').data[0])\n",
    "\n",
    "    # Построение второй столбчатой диаграммы\n",
    "    fig.add_trace(px.bar(df, x=x, y=y2, opacity=0.5, color_discrete_sequence=['green'], labels={y2: subtitle2}, barmode='overlay').data[0])\n",
    "\n",
    "    # Оформление графика\n",
    "    fig.update_layout(title=title, xaxis_title=x_lable, yaxis_title=y_lable)\n",
    "\n",
    "    # Вывод графика\n",
    "    fig.show() \n"
   ]
  },
  {
   "cell_type": "markdown",
   "id": "ad1e0f8f-5875-4cb1-b6d3-5e95b67908c3",
   "metadata": {},
   "source": [
    "#### Функция draw_bar_horizontal()\n",
    "\n",
    "Функция для построения горизонтальной столбчатой диаграммы"
   ]
  },
  {
   "cell_type": "code",
   "execution_count": 20,
   "id": "e733fe81-eb19-47cd-87e7-6eb84a2eb120",
   "metadata": {},
   "outputs": [],
   "source": [
    "# Функция для построения горизонтальной столбчатой диаграммы\n",
    "def draw_bar_horizontal(df, x, y, title, xlabel, ylabel, is_top=False):\n",
    "\n",
    "    # Рассчитываем долю каждого значения\n",
    "    df['percentage'] = df[y] / df[y].sum() * 100\n",
    " \n",
    "    # Если нужно отобрать только топ-10 записей\n",
    "    if is_top:\n",
    "        df = df.sort_values(by=y, ascending=True).tail(10)\n",
    "    else:\n",
    "        df = df.sort_values(by=y, ascending=True)\n",
    "    \n",
    "    # Простроение графика\n",
    "    fig = go.Figure()\n",
    "    \n",
    "    # Добавление горизонтальной столбчатой диаграммы\n",
    "    fig.add_trace(\n",
    "        go.Bar(\n",
    "            x=df[y], \n",
    "            y=df[x], \n",
    "            orientation='h', \n",
    "            opacity=0.5,\n",
    "            text=df[y], \n",
    "            hovertemplate='%{y}<br>Значение: %{text}<br>Доля: %{customdata:.2f}%<extra></extra>', \n",
    "            customdata=df['percentage'], \n",
    "            showlegend=False,\n",
    "            hoverinfo=\"skip\"\n",
    "        )\n",
    "    )\n",
    "    \n",
    "    # Оформление графика\n",
    "    fig.update_layout(\n",
    "        xaxis_title=ylabel, \n",
    "        yaxis_title=xlabel, \n",
    "        title=title, \n",
    "    )\n",
    "\n",
    "    # Вывод графика\n",
    "    fig.show()\n",
    "\n"
   ]
  },
  {
   "cell_type": "markdown",
   "id": "3094af90-5315-4f7e-b67f-aa4ac4defbff",
   "metadata": {},
   "source": [
    "#### Функция draw_box()\n",
    "\n",
    "Функция для построения диаграммы размаха."
   ]
  },
  {
   "cell_type": "code",
   "execution_count": 21,
   "id": "fce0ba40-c39c-45ff-83c8-5c311ffe0ed7",
   "metadata": {},
   "outputs": [],
   "source": [
    "# функция для построения графика boxplot\n",
    "def draw_box(df, x, title, x_lim=0):\n",
    "\n",
    "    # Простроение графика\n",
    "    fig = go.Figure()\n",
    "\n",
    "    fig = px.box(df, x=x)\n",
    "        \n",
    "    if x_lim:\n",
    "        title +=' (limit X)'\n",
    "        fig.update_xaxes(range=[0, x_lim])\n",
    "\n",
    "    # Оформление графика\n",
    "    fig.update_layout(title=title, xaxis_title='Значение параметра', showlegend=True)\n",
    "    \n",
    "    # Вывод графика\n",
    "    fig.show()\n",
    "    \n",
    "    df_describe_by_parameter(df, x)\n",
    "    "
   ]
  },
  {
   "cell_type": "markdown",
   "id": "bbf89dac",
   "metadata": {},
   "source": [
    "#### Функция draw_heatmap()\n",
    "\n",
    "Функция для построения heatmap."
   ]
  },
  {
   "cell_type": "code",
   "execution_count": 22,
   "id": "f51e34cf",
   "metadata": {},
   "outputs": [],
   "source": [
    "# Функция для построения heatmap\n",
    "def draw_heatmap(df, title, xlabel, ylable, annot=True, size_x=12, size_y=7):\n",
    "    \n",
    "    # Размер графика\n",
    "    plt.figure(figsize = (size_x, size_y))\n",
    "    \n",
    "    # Простроение графика\n",
    "    sns.heatmap(df, annot = annot, fmt = '.2%')\n",
    "\n",
    "    # Оформление графика\n",
    "    plt.title(title)  \n",
    "    plt.xlabel(xlabel) \n",
    "    plt.ylabel(ylable) \n",
    "\n",
    "    # Вывод графика\n",
    "    plt.show()  \n"
   ]
  },
  {
   "cell_type": "markdown",
   "id": "df67b245",
   "metadata": {},
   "source": [
    "#### Функция draw_pie()\n",
    "\n",
    "Функция для построения круговой диаграммы"
   ]
  },
  {
   "cell_type": "code",
   "execution_count": 23,
   "id": "9f72255a",
   "metadata": {},
   "outputs": [],
   "source": [
    "# Функция для построения круговой диаграммы\n",
    "def draw_pie(df, x, y, title):\n",
    "\n",
    "    df[x] = df[x].map(replace_bool)\n",
    "    \n",
    "    # Простроение графика\n",
    "    fig = go.Figure(\n",
    "        go.Pie(\n",
    "                labels=df[x], \n",
    "                values=df[y], \n",
    "        )\n",
    "    )\n",
    "\n",
    "    # Оформление графика\n",
    "    fig.update_layout(title=title, showlegend=True )\n",
    "\n",
    "    # Вывод графика\n",
    "    fig.show()\n"
   ]
  },
  {
   "cell_type": "markdown",
   "id": "404aec83-09fc-4264-a12e-e266d86d6f08",
   "metadata": {},
   "source": [
    "#### Функция draw_pie_compare()\n",
    "\n",
    "Функция для построения двух круговых диаграмм для сравнения"
   ]
  },
  {
   "cell_type": "code",
   "execution_count": 24,
   "id": "7ae67da6-adce-4012-8d3f-6fcf19466940",
   "metadata": {},
   "outputs": [],
   "source": [
    "# Функция для построения двух круговых диаграмм рядом для сравнение\n",
    "def draw_pie_compare(df1, df2, x, y, title, subtitle1, subtitle2):\n",
    "    \n",
    "    df1[x] = df1[x].map(replace_bool)\n",
    "    \n",
    "    df2[x] = df2[x].map(replace_bool)\n",
    "    \n",
    "    # Построение круговых диаграмм\n",
    "    fig = make_subplots(rows=1, cols=2, specs=[[{'type':'domain'}, {'type':'domain'}]])\n",
    "    \n",
    "    fig.add_trace(go.Pie(labels=df1[x], values=df1[y],name=subtitle1), 1, 1)\n",
    "    fig.add_annotation(text=subtitle1, x=0.2, y=-0.1, showarrow=False)\n",
    "    \n",
    "    fig.add_trace(go.Pie(labels=df2[x], values=df2[y], name=subtitle2), 1,2)\n",
    "    fig.add_annotation(text=subtitle2, x=0.8, y=-0.1, showarrow=False)\n",
    "    \n",
    "    # Оформление графика\n",
    "    fig.update_layout(title_text=title, title_x=0.5)\n",
    "\n",
    "    # Вывод графика\n",
    "    fig.show()"
   ]
  },
  {
   "cell_type": "markdown",
   "id": "3bd1d30b-c62e-4222-bceb-e7c7bf24b51f",
   "metadata": {},
   "source": [
    "#### Функция draw_plot()\n",
    "\n",
    "Функция построения plot графика"
   ]
  },
  {
   "cell_type": "code",
   "execution_count": 25,
   "id": "64dd1659-54da-46f9-9dc7-e384cff73d9d",
   "metadata": {},
   "outputs": [],
   "source": [
    "def draw_plot(df, title, xlabel, ylabel):\n",
    "    \n",
    "    # Простроение графика\n",
    "    fig = go.Figure()\n",
    "    \n",
    "    # Цветовая палитра\n",
    "    palette = px.colors.qualitative.Plotly\n",
    "    \n",
    "    # Добавление данных на график\n",
    "    for i, field in enumerate(df.columns):\n",
    "            fig.add_trace(\n",
    "                go.Scatter(\n",
    "                    x=df.index,\n",
    "                    y=df[field],\n",
    "                    mode='lines',\n",
    "                    name=field,\n",
    "                    line=dict(color=palette[i % len(palette)])\n",
    "                )\n",
    "            )\n",
    "    \n",
    "    # Оформление графика\n",
    "    fig.update_layout(\n",
    "        title=title,\n",
    "        xaxis_title=xlabel,\n",
    "        yaxis_title=ylabel,\n",
    "        legend_title=\"Легенда\"\n",
    "    )\n",
    "    \n",
    "    # Вывод графика\n",
    "    fig.show()\n",
    "\n"
   ]
  },
  {
   "cell_type": "markdown",
   "id": "f4de554f-57ee-4d3e-b69e-a0513008e347",
   "metadata": {},
   "source": [
    "#### Функция draw_funnel()\n",
    "\n",
    "Функция для построения воронки"
   ]
  },
  {
   "cell_type": "code",
   "execution_count": 26,
   "id": "074c5848-c842-4934-883e-fa48dbd992f1",
   "metadata": {},
   "outputs": [],
   "source": [
    "# Функция для построения воронки\n",
    "def draw_funnel(df, x, y, title):\n",
    "    \n",
    "    fig = go.Figure(\n",
    "        go.Funnel(\n",
    "                x = df[x],\n",
    "                y = df[y],\n",
    "                textinfo = 'value + percent previous',\n",
    "                marker = {'color': ['blue', 'green', 'lightblue']}\n",
    "        )\n",
    "    )\n",
    "\n",
    "    # Оформление графика\n",
    "    fig.update_layout(\n",
    "                title_text=title, \n",
    "                title_x=0.5\n",
    "    )\n",
    "    \n",
    "    # Вывод графика\n",
    "    fig.show()     \n"
   ]
  },
  {
   "cell_type": "markdown",
   "id": "7e783da8-9ac3-4344-9bde-1ff96bf5c6d2",
   "metadata": {},
   "source": [
    "#### Функция draw_T_plot()\n",
    "\n",
    "Функция для построения plot-графиков по траспонированным колонкам"
   ]
  },
  {
   "cell_type": "code",
   "execution_count": 27,
   "id": "8343a531-0bd2-47a3-a21d-bcaf159bd36f",
   "metadata": {},
   "outputs": [],
   "source": [
    "def draw_T_plot(data, title, xlabel, ylabel):\n",
    "    # Создаем фигуру\n",
    "    fig = go.Figure()\n",
    "    \n",
    "    # Преобразование индекса в строку, если это PeriodIndex\n",
    "    if isinstance(data.index, pd.PeriodIndex):\n",
    "        data.index = data.index.astype(str)\n",
    "        \n",
    "    # Добавляем линии для каждой строки (транспонированных колонок)\n",
    "    for row in data.index:\n",
    "        fig.add_trace(\n",
    "            go.Scatter(\n",
    "                x=data.columns,\n",
    "                y=data.loc[row],\n",
    "                mode='lines',\n",
    "                name=row\n",
    "            )\n",
    "        )\n",
    "    \n",
    "      \n",
    "    # Оформление графика\n",
    "    fig.update_layout(\n",
    "        title=title,\n",
    "        xaxis_title=xlabel,\n",
    "        yaxis_title=ylabel,\n",
    "        xaxis=dict(tickmode='array', tickvals=data.index, ticktext=data.index),\n",
    "        legend=dict(x=1, y=1)  # Легенда за пределами графика\n",
    "    )\n",
    "    \n",
    "    # Вывод графика\n",
    "    fig.show()\n"
   ]
  },
  {
   "cell_type": "markdown",
   "id": "d8ded281",
   "metadata": {},
   "source": [
    "## Загрузка данных и изучение общей информации"
   ]
  },
  {
   "cell_type": "code",
   "execution_count": null,
   "id": "2ca56dec",
   "metadata": {},
   "outputs": [],
   "source": [
    "# Чтение данных из csv-файлов в датафрейм и сохранение в переменные\n",
    "try:\n",
    "    donors = read_csv_file(path_dir + 'id_donor.csv')\n",
    "    orders = read_csv_file(path_dir + 'order.csv')\n",
    "    imports = read_csv_file(path_dir + 'import.csv')\n",
    "    channels = pd.read_pickle(path_dir + 'channels.pkl')\n",
    "    dic_channels = read_json_file(path_dir + 'channels_dict.txt')\n",
    "except FileNotFoundError as e:\n",
    "    print(f\"FileNotFoundError successfully handled\\n\"\n",
    "          f\"{e}\")"
   ]
  },
  {
   "cell_type": "markdown",
   "id": "fec42e0a-3177-408f-83f5-81b723d90ba9",
   "metadata": {},
   "source": [
    "## Предварительный анализ данных"
   ]
  },
  {
   "cell_type": "markdown",
   "id": "19374fea-d5ff-4a44-af26-7510027c0fae",
   "metadata": {},
   "source": [
    "### is_donor.csv"
   ]
  },
  {
   "cell_type": "code",
   "execution_count": null,
   "id": "4d6fb41a-ac5d-4338-a247-fd42fb0ded09",
   "metadata": {},
   "outputs": [],
   "source": [
    "#ProfileReport(donors, title=\"Pandas Profiling id_donor.csv\", explorative=True)\n"
   ]
  },
  {
   "cell_type": "markdown",
   "id": "438e81d3-5ffc-4f09-96e4-71f5c523af1a",
   "metadata": {},
   "source": [
    "### orders.csv"
   ]
  },
  {
   "cell_type": "code",
   "execution_count": null,
   "id": "e8525324-ede9-47e3-8916-2c54e4670175",
   "metadata": {},
   "outputs": [],
   "source": [
    "#ProfileReport(orders, title=\"Pandas Profiling order.csv\", explorative=True)\n"
   ]
  },
  {
   "cell_type": "markdown",
   "id": "29a198ab-0399-463c-af75-d99c42578585",
   "metadata": {},
   "source": [
    "### imports.csv"
   ]
  },
  {
   "cell_type": "code",
   "execution_count": null,
   "id": "38c8eec0-b927-4153-bb01-d917d4e7f960",
   "metadata": {},
   "outputs": [],
   "source": [
    "#ProfileReport(imports, title=\"Pandas Profiling import.csv\", explorative=True)\n"
   ]
  },
  {
   "cell_type": "markdown",
   "id": "60b993f3-8cd7-44b6-bbc7-7d09921cdbe0",
   "metadata": {},
   "source": [
    "### channels.pkl"
   ]
  },
  {
   "cell_type": "code",
   "execution_count": null,
   "id": "30c7e195-0def-4f41-886f-b934f6e883fa",
   "metadata": {},
   "outputs": [],
   "source": [
    "channels['action_date'] = pd.to_datetime(channels['action_date'])\n",
    "\n",
    "#ProfileReport(channels, title=\"Pandas Profiling channels.pkl\", explorative=True)\n"
   ]
  },
  {
   "cell_type": "markdown",
   "id": "b5133716",
   "metadata": {},
   "source": [
    "## Предобработка данных\n"
   ]
  },
  {
   "cell_type": "markdown",
   "id": "52d91e34",
   "metadata": {},
   "source": [
    "### Переименование столбцов"
   ]
  },
  {
   "cell_type": "code",
   "execution_count": null,
   "id": "b55730ae-fcbf-4896-928b-c7f33d44aab1",
   "metadata": {},
   "outputs": [],
   "source": [
    "donors = donors.rename(\n",
    "    columns={\n",
    "        'CustomerCustomFieldsRecurrent' : 'is_recurrent',\n",
    "        'CustomerCustomFieldsVolunteer' : 'is_volunteer',\n",
    "        'CustomerSex' : 'sex',\n",
    "        'CustomerAreaIdsExternalId' : 'region_id',\n",
    "        'CustomerAreaName' : 'region_name',\n",
    "        'CustomerIanaTimeZone' : 'timezone',\n",
    "        'CustomerTimeZoneSource' : 'timezone_src',\n",
    "        'CustomerIdsMindboxId' : 'user_id',\n",
    "        'CustomerIsEmailInvalid' : 'is_valid_email',\n",
    "        'CustomerChangeDateTimeUtc' : 'update_date',\n",
    "        'CustomerCustomerSubscriptionsDobroaifIsSubscribed' : 'subscribed',\n",
    "        'CustomerCustomerSubscriptionsDobroaifSmsIsSubscribed' : 'subscribed_sms',\n",
    "        'CustomerCustomerSubscriptionsDobroaifEmailIsSubscribed' : 'subscribed_email',\n",
    "        'CustomerCustomerSubscriptionsDobroaifViberIsSubscribed' : 'subscribed_viber',\n",
    "        'CustomerCustomerSubscriptionsDobroaifMobilePushIsSubscribed' : 'subscribed_mobile',\n",
    "        'CustomerCustomerSubscriptionsDobroaifWebPushIsSubscribed' : 'subscribed_push',\n",
    "    }\n",
    ")\n"
   ]
  },
  {
   "cell_type": "code",
   "execution_count": null,
   "id": "1d9df204-4489-44c1-a109-60762093b725",
   "metadata": {},
   "outputs": [],
   "source": [
    "orders = orders.rename(\n",
    "    columns={\n",
    "        'OrderIdsMindboxId' : 'order_id',\n",
    "        'OrderFirstActionIdsMindboxId' : 'action_id',\n",
    "        'OrderFirstActionDateTimeUtc' : 'create_date',\n",
    "        'OrderFirstActionChannelIdsMindboxId' : 'contact_id',\n",
    "        'OrderFirstActionChannelIdsExternalId' : 'contact_ext',\n",
    "        'OrderFirstActionChannelName' : 'contact_name',\n",
    "        'OrderAreaIdsExternalId' : 'region_id',\n",
    "        'OrderTransactionIdsExternalId' : 'transaction_id',\n",
    "        'OrderTotalPrice' : 'total_price',\n",
    "        'OrderIdsWebsiteID' : 'website_id',\n",
    "        'OrderCustomFieldsNewyear' : 'is_newyear',\n",
    "        'OrderCustomFieldsNextPayDate' : 'next_pay_date',\n",
    "        'OrderCustomFieldsRecurrent' : 'is_recurrent',\n",
    "        'OrderCustomFieldsRepayment' : 'is_repayment',\n",
    "        'OrderLineProductIdsWebsite' : 'product_id',\n",
    "        'OrderLineProductName' : 'product_name',\n",
    "        'OrderLineQuantity' : 'quantity',\n",
    "        'OrderLineBasePricePerItem' : 'price_per_item',\n",
    "        'OrderLinePriceOfLine' : 'price',\n",
    "        'OrderLineStatusIdsExternalId' : 'status',\n",
    "        'OrderCustomerIdsMindboxId' : 'user_id',\n",
    "    }\n",
    ")\n"
   ]
  },
  {
   "cell_type": "code",
   "execution_count": null,
   "id": "e17ce30e-05de-476b-ab2b-d83e49a60d31",
   "metadata": {},
   "outputs": [],
   "source": [
    "imports = imports.rename(\n",
    "    columns={\n",
    "        'CustomerActionCustomerIdsMindboxId' : 'user_id'\n",
    "    }\n",
    ")\n"
   ]
  },
  {
   "cell_type": "markdown",
   "id": "acf93fd3-f9b6-4461-a90c-ea787795f8b2",
   "metadata": {},
   "source": [
    "### Преобразование дат и добавление новых столбцов"
   ]
  },
  {
   "cell_type": "code",
   "execution_count": null,
   "id": "5e792497-3f83-4ffe-9c25-ae21f8625dda",
   "metadata": {},
   "outputs": [],
   "source": [
    "donors['update_date'] = pd.to_datetime(donors['update_date'], dayfirst=True) + pd.Timedelta(hours=3)\n",
    "\n",
    "donors['date'] = pd.to_datetime(donors['update_date'].dt.strftime('%Y-%m-%d'))\n",
    "donors['month'] = pd.to_datetime(donors['update_date'].dt.strftime('%Y-%m-01'))\n",
    "donors['year'] = pd.to_datetime(donors['update_date']).dt.year\n"
   ]
  },
  {
   "cell_type": "code",
   "execution_count": null,
   "id": "136d29e6-23dd-49b1-bd59-ef5223b5a0cf",
   "metadata": {},
   "outputs": [],
   "source": [
    "orders['create_date'] = pd.to_datetime(orders['create_date'], dayfirst=True) + pd.Timedelta(hours=3)\n",
    "\n",
    "orders['date'] = pd.to_datetime(orders['create_date'].dt.strftime('%Y-%m-%d'))\n",
    "orders['month'] = pd.to_datetime(orders['create_date'].dt.strftime('%Y-%m-01'))\n",
    "orders['year'] = pd.to_datetime(orders['create_date']).dt.year\n",
    "\n",
    "orders['day_of_week'] = pd.to_datetime(orders['create_date']).dt.day_name()\n",
    "orders['part_of_day'] = orders['create_date'].dt.hour.apply(get_part_of_day)\n",
    "orders['start_of_week'] = orders['date'] - pd.to_timedelta(orders['date'].dt.dayofweek, unit='d')\n",
    "\n",
    "orders['cohort'] = orders.groupby('user_id')['create_date'].transform('min').dt.to_period('M')\n",
    "orders['order_month'] = orders['date'].dt.to_period('M')\n",
    "\n"
   ]
  },
  {
   "cell_type": "code",
   "execution_count": null,
   "id": "833d9c75-992c-4bef-a965-1f6a392c7eaf",
   "metadata": {},
   "outputs": [],
   "source": [
    "channels['month'] = pd.to_datetime(channels['action_date'].dt.strftime('%Y-%m-01'))\n",
    "channels['year'] = pd.to_datetime(channels['action_date']).dt.year\n",
    "channels['event_dt'] = pd.to_datetime(channels['action_date'].astype(str) + ' ' + channels['action_time'].astype(str).str.zfill(2) + ':00:00')\n"
   ]
  },
  {
   "cell_type": "markdown",
   "id": "b460613d-3873-48cf-96cd-281add442bfb",
   "metadata": {},
   "source": [
    "### Работа с пропусками"
   ]
  },
  {
   "cell_type": "markdown",
   "id": "923aa60e-7fea-45cf-9cfd-6611e358a170",
   "metadata": {},
   "source": [
    "#### donors.csv"
   ]
  },
  {
   "cell_type": "code",
   "execution_count": null,
   "id": "122cab52-668d-478c-9187-8ffb09e0aba9",
   "metadata": {},
   "outputs": [],
   "source": [
    "df_isna_info(donors)"
   ]
  },
  {
   "cell_type": "code",
   "execution_count": null,
   "id": "98b523eb-852f-4bed-b4de-de5790f30728",
   "metadata": {},
   "outputs": [],
   "source": [
    "donors['is_recurrent'] = donors['is_recurrent'].fillna(False)"
   ]
  },
  {
   "cell_type": "code",
   "execution_count": null,
   "id": "9ed7eb32-a2ad-49d5-aa1d-65a238dd6a83",
   "metadata": {},
   "outputs": [],
   "source": [
    "donors['is_volunteer'] = donors['is_volunteer'].fillna(False)"
   ]
  },
  {
   "cell_type": "code",
   "execution_count": null,
   "id": "c200ff3f-994d-43fd-80c4-8d2bc74b9e0e",
   "metadata": {},
   "outputs": [],
   "source": [
    "donors['sex'] = donors['sex'].apply(replace_sex)"
   ]
  },
  {
   "cell_type": "code",
   "execution_count": null,
   "id": "4d394435-d3bc-4609-8efb-9e2787f4eb73",
   "metadata": {},
   "outputs": [],
   "source": [
    "donors['is_valid_email'] = donors['is_valid_email'].fillna(False)"
   ]
  },
  {
   "cell_type": "code",
   "execution_count": null,
   "id": "83a317e5-ab92-4295-8ee2-e274eb669309",
   "metadata": {},
   "outputs": [],
   "source": [
    "donors['timezone'] = donors['timezone'].fillna('Неизвестно')\n",
    "donors['timezone_src'] = donors['timezone_src'].fillna('Неизвестно')"
   ]
  },
  {
   "cell_type": "code",
   "execution_count": null,
   "id": "faef5952-4373-449c-b288-664b50c30578",
   "metadata": {},
   "outputs": [],
   "source": [
    "donors['region_id'] = donors['region_id'].fillna(0)\n",
    "donors['region_name'] = donors['region_name'].fillna('Неизвестно')"
   ]
  },
  {
   "cell_type": "code",
   "execution_count": null,
   "id": "eb343cde-7701-46d4-bebe-e3dcc95f1d43",
   "metadata": {},
   "outputs": [],
   "source": [
    "donors['subscribed'] = donors['subscribed'].fillna(False)\n",
    "donors['subscribed_sms'] = donors['subscribed_sms'].fillna(False)\n",
    "donors['subscribed_email'] = donors['subscribed_email'].fillna(False)\n",
    "donors['subscribed_viber'] = donors['subscribed_viber'].fillna(False)\n",
    "donors['subscribed_mobile'] = donors['subscribed_mobile'].fillna(False)\n",
    "donors['subscribed_push'] = donors['subscribed_push'].fillna(False)"
   ]
  },
  {
   "cell_type": "code",
   "execution_count": null,
   "id": "53b6245c-f45f-4229-818e-60cfd96d4748",
   "metadata": {},
   "outputs": [],
   "source": [
    "df_isna_info(donors)"
   ]
  },
  {
   "cell_type": "markdown",
   "id": "f1d17c7b-386b-4d91-8563-23c77c6b44b6",
   "metadata": {},
   "source": [
    "#### orders.csv"
   ]
  },
  {
   "cell_type": "code",
   "execution_count": null,
   "id": "afd1df03-860c-48b8-a0f3-bcadfdfdbfef",
   "metadata": {},
   "outputs": [],
   "source": [
    "df_isna_info(orders)"
   ]
  },
  {
   "cell_type": "code",
   "execution_count": null,
   "id": "7b84f5c5-4b51-4cf1-b5d9-a15328020893",
   "metadata": {},
   "outputs": [],
   "source": [
    "orders['is_newyear'] = orders['is_newyear'].fillna(False)"
   ]
  },
  {
   "cell_type": "code",
   "execution_count": null,
   "id": "99a7cfa8-c5f6-4056-8bc7-70e592c1fa42",
   "metadata": {},
   "outputs": [],
   "source": [
    "orders['is_recurrent'] = orders['is_recurrent'].fillna(False)"
   ]
  },
  {
   "cell_type": "code",
   "execution_count": null,
   "id": "74b7e118-508c-4e8d-a945-be0ba4d97a4d",
   "metadata": {},
   "outputs": [],
   "source": [
    "orders['is_repayment'] = orders['is_repayment'].fillna(False)"
   ]
  },
  {
   "cell_type": "code",
   "execution_count": null,
   "id": "a632e4b3-ffbd-4bc7-959e-92c11800ca76",
   "metadata": {},
   "outputs": [],
   "source": [
    "orders['product_name'] = orders['product_name'].fillna('Неизвестно')\n"
   ]
  },
  {
   "cell_type": "code",
   "execution_count": null,
   "id": "6a1c1689-e448-4aad-b3c7-a7444454f0b5",
   "metadata": {},
   "outputs": [],
   "source": [
    "df_isna_info(orders)"
   ]
  },
  {
   "cell_type": "markdown",
   "id": "eed374d7-3616-4c79-9667-44060af1a202",
   "metadata": {},
   "source": [
    "#### channels.pkl"
   ]
  },
  {
   "cell_type": "code",
   "execution_count": null,
   "id": "6481b13a-f46f-4b4e-97ac-152b6c9f05d5",
   "metadata": {},
   "outputs": [],
   "source": [
    "df_isna_info(channels)"
   ]
  },
  {
   "cell_type": "code",
   "execution_count": null,
   "id": "a0e7d68d-d316-49d5-bf9d-81866784252f",
   "metadata": {},
   "outputs": [],
   "source": [
    "channels['utm_campaign'] = channels['utm_campaign'].fillna('')\n",
    "channels['utm_source'] = channels['utm_source'].fillna('')\n",
    "channels['utm_medium'] = channels['utm_medium'].fillna('')\n"
   ]
  },
  {
   "cell_type": "code",
   "execution_count": null,
   "id": "d51a7186-d6c0-411f-8609-865dcad07990",
   "metadata": {},
   "outputs": [],
   "source": [
    "df_isna_info(channels)"
   ]
  },
  {
   "cell_type": "markdown",
   "id": "31b5214d",
   "metadata": {},
   "source": [
    "### Удаление столбцов"
   ]
  },
  {
   "cell_type": "code",
   "execution_count": null,
   "id": "5261c475-8678-4310-882b-08bbc9ef3411",
   "metadata": {},
   "outputs": [],
   "source": [
    "orders['quantity'].value_counts()"
   ]
  },
  {
   "cell_type": "code",
   "execution_count": null,
   "id": "9b164a4b-ac13-4818-9f52-0b079a3a61bc",
   "metadata": {},
   "outputs": [],
   "source": [
    "orders[['contact_id', 'contact_ext', 'contact_name']].value_counts()"
   ]
  },
  {
   "cell_type": "code",
   "execution_count": null,
   "id": "46d6342f-2bf6-47b4-8bcb-b3763944a719",
   "metadata": {},
   "outputs": [],
   "source": [
    "donors = donors.drop(\n",
    "    [\n",
    "        'region_id', \n",
    "        'timezone_src'\n",
    "    ], \n",
    "    axis=1\n",
    ")\n"
   ]
  },
  {
   "cell_type": "code",
   "execution_count": null,
   "id": "a78a09db-dbd8-4817-9904-6764d78d98f1",
   "metadata": {},
   "outputs": [],
   "source": [
    "orders = orders.drop(\n",
    "    [\n",
    "        'region_id', \n",
    "        'transaction_id', \n",
    "        'next_pay_date', \n",
    "        'quantity', \n",
    "        'contact_id', \n",
    "        'contact_ext', \n",
    "        'price_per_item', \n",
    "        'price', \n",
    "        'action_id', \n",
    "        'website_id', \n",
    "        'product_id'\n",
    "    ], \n",
    "    axis=1\n",
    ")\n"
   ]
  },
  {
   "cell_type": "code",
   "execution_count": null,
   "id": "c913a048-7487-469c-8f1c-8b13eaa406cc",
   "metadata": {},
   "outputs": [],
   "source": [
    "channels = channels.drop(\n",
    "    [\n",
    "        'action_time'\n",
    "    ], \n",
    "    axis=1\n",
    ")\n"
   ]
  },
  {
   "cell_type": "code",
   "execution_count": null,
   "id": "4f6bab05-1614-4ef3-8938-ce68d25d799f",
   "metadata": {},
   "outputs": [],
   "source": [
    "imports = imports[['user_id']]"
   ]
  },
  {
   "cell_type": "markdown",
   "id": "b270701b",
   "metadata": {},
   "source": [
    "### Преобразование типов данных"
   ]
  },
  {
   "cell_type": "code",
   "execution_count": null,
   "id": "3916bbd6-0541-493f-a65b-1a7c63187077",
   "metadata": {},
   "outputs": [],
   "source": [
    "df_column_astype(\n",
    "    donors, \n",
    "    {\n",
    "        'is_recurrent' : 'bool',\n",
    "        'is_volunteer' : 'bool',\n",
    "        'is_valid_email' : 'bool',\n",
    "    }\n",
    ")"
   ]
  },
  {
   "cell_type": "code",
   "execution_count": null,
   "id": "a4fe49f8-41de-4af2-a52a-3999a0542366",
   "metadata": {},
   "outputs": [],
   "source": [
    "df_column_astype(\n",
    "    orders, \n",
    "    {\n",
    "        'total_price' : 'float64',\n",
    "        'is_newyear' : 'bool',\n",
    "        'is_recurrent' : 'bool',\n",
    "        'is_repayment' : 'bool',\n",
    "    }\n",
    ")"
   ]
  },
  {
   "cell_type": "markdown",
   "id": "2fbd0c14-438f-4ab6-a144-fdf21fac67bd",
   "metadata": {},
   "source": [
    "### Преобразование назначения платежа и временной зоны"
   ]
  },
  {
   "cell_type": "code",
   "execution_count": null,
   "id": "e31ba385-5baf-4b20-8ae9-beb7f01d8bfe",
   "metadata": {},
   "outputs": [],
   "source": [
    "orders['product_name'] = orders['product_name'].str.replace(r'Пожертвование\\s+Благотворительный\\s+фонд\\s+«АиФ\\.\\s+Доброе сердце»\\s*', '', regex=True)\n",
    "orders['product_name'] = orders['product_name'].str.replace(r'\\s*БФ\\s+«АиФ\\.\\s+Доброе сердце»\\s*', '', regex=True)\n",
    "orders['product_name'] = orders['product_name'].str.replace(r'\\s*\\(хочу\\s+помочь\\)\\s*', '', regex=True)\n",
    "orders['product_name'] = orders['product_name'].str.replace(r'^Пожертвование\\s+на\\s+уставную\\s+деятельность\\s*$', 'На уставную деятельность', regex=True)\n",
    "\n",
    "donors['timezone'] = donors['timezone'].str.replace(r'^.*\\/', '', regex=True)\n"
   ]
  },
  {
   "cell_type": "markdown",
   "id": "70ac3999",
   "metadata": {},
   "source": [
    "### Работа с дубликатами"
   ]
  },
  {
   "cell_type": "code",
   "execution_count": null,
   "id": "6bc2ad2e-61ce-4263-924a-d54a36fdd692",
   "metadata": {},
   "outputs": [],
   "source": [
    "df_duplicated_info(donors)"
   ]
  },
  {
   "cell_type": "code",
   "execution_count": null,
   "id": "6d4ade80-6a5f-45e8-ba86-d6117af8d7b1",
   "metadata": {},
   "outputs": [],
   "source": [
    "df_duplicated_info(orders)"
   ]
  },
  {
   "cell_type": "code",
   "execution_count": null,
   "id": "ba84a2b1-35fa-479c-9c8d-2b4e4fc1ccdd",
   "metadata": {},
   "outputs": [],
   "source": [
    "df_duplicated_info(channels)"
   ]
  },
  {
   "cell_type": "code",
   "execution_count": null,
   "id": "f8370392-05af-4922-b763-8a254e70fc4d",
   "metadata": {},
   "outputs": [],
   "source": [
    "channels.shape[0]"
   ]
  },
  {
   "cell_type": "code",
   "execution_count": null,
   "id": "3b29e9ca-94d5-43f1-8754-5365dbe25cf6",
   "metadata": {},
   "outputs": [],
   "source": [
    "channels = channels.drop_duplicates()\n",
    "channels.shape[0]"
   ]
  },
  {
   "cell_type": "code",
   "execution_count": null,
   "id": "754223ed-e654-4d98-aea6-e0fd0c098bc8",
   "metadata": {},
   "outputs": [],
   "source": [
    "df_duplicated_info(imports)"
   ]
  },
  {
   "cell_type": "code",
   "execution_count": null,
   "id": "a3aebf70-60c3-4053-a997-406288fe0850",
   "metadata": {},
   "outputs": [],
   "source": [
    "imports.shape[0]"
   ]
  },
  {
   "cell_type": "code",
   "execution_count": null,
   "id": "d71e056e-9c1d-42f3-bed2-f8f1d438d56f",
   "metadata": {},
   "outputs": [],
   "source": [
    "imports = imports.drop_duplicates()\n",
    "imports.shape[0]"
   ]
  },
  {
   "cell_type": "markdown",
   "id": "621914ae-3f57-422f-be22-0bff0d055a6f",
   "metadata": {},
   "source": [
    "### Переформирование индексов"
   ]
  },
  {
   "cell_type": "code",
   "execution_count": null,
   "id": "1375db02-5910-46a3-9fe3-eb0bd027fcde",
   "metadata": {},
   "outputs": [],
   "source": [
    "donors = donors.sort_values(by=['user_id', 'update_date']).reset_index(drop=True)"
   ]
  },
  {
   "cell_type": "code",
   "execution_count": null,
   "id": "39582130-7b9e-44c6-aca6-d18eb824faeb",
   "metadata": {},
   "outputs": [],
   "source": [
    "orders = orders.sort_values(by=['user_id', 'create_date']).reset_index(drop=True)"
   ]
  },
  {
   "cell_type": "code",
   "execution_count": null,
   "id": "6783756b-92a4-416f-bc70-5662d8eba224",
   "metadata": {},
   "outputs": [],
   "source": [
    "channels = channels.sort_values(by=['user_id', 'event_dt']).reset_index(drop=True)"
   ]
  },
  {
   "cell_type": "code",
   "execution_count": null,
   "id": "d9c4fc1d-3b6c-4ba3-9245-1383fd3969f2",
   "metadata": {},
   "outputs": [],
   "source": [
    "imports = imports.sort_values(by='user_id').reset_index(drop=True)"
   ]
  },
  {
   "cell_type": "markdown",
   "id": "6d14c1bd",
   "metadata": {},
   "source": [
    "### Результат предобработки данных"
   ]
  },
  {
   "cell_type": "code",
   "execution_count": null,
   "id": "545e9e1f-2dbe-4886-ae53-048bb9312e5e",
   "metadata": {},
   "outputs": [],
   "source": [
    "df_analysis(donors)"
   ]
  },
  {
   "cell_type": "code",
   "execution_count": null,
   "id": "d1d48527-98a1-459a-8242-e4edcd050f79",
   "metadata": {},
   "outputs": [],
   "source": [
    "df_analysis(orders)"
   ]
  },
  {
   "cell_type": "code",
   "execution_count": null,
   "id": "b2bb90d5-1ad6-4984-87fe-32e7b25a4663",
   "metadata": {},
   "outputs": [],
   "source": [
    "df_analysis(imports)"
   ]
  },
  {
   "cell_type": "code",
   "execution_count": null,
   "id": "292d6923-2e03-4461-9e73-17db1e1428c7",
   "metadata": {},
   "outputs": [],
   "source": [
    "df_analysis(channels)"
   ]
  },
  {
   "cell_type": "markdown",
   "id": "47397d8e",
   "metadata": {},
   "source": [
    "### Вывод\n",
    "\n",
    "Предобработка завершена. Данные предоставлены в хорошем качестве.\n",
    "\n",
    "Для удобства работы:\n",
    "- переменованы столбцы;\n",
    "- подкорректирован тип данных, согласно заявленным значениям;\n",
    "- добавлены новые столбцы с датами;\n",
    "- обработаны пропуски, для корректной работы pandas;\n",
    "- удалены лишние столбцы;\n",
    "- удалены дубликаты;\n",
    "- переформированы индексы.\n"
   ]
  },
  {
   "cell_type": "markdown",
   "id": "2f537a85-7102-4d61-b09c-f2c8ba800d33",
   "metadata": {},
   "source": [
    "## Дополнительные срезы, поля и постоянные переменные"
   ]
  },
  {
   "cell_type": "code",
   "execution_count": null,
   "id": "c5770a7b-f919-4cb3-b2f8-b21ed5ca66e4",
   "metadata": {},
   "outputs": [],
   "source": [
    "history_import_ids = imports['user_id'].unique()"
   ]
  },
  {
   "cell_type": "code",
   "execution_count": null,
   "id": "c8130f1d-ff38-4e13-8239-c5d23b2ea92b",
   "metadata": {},
   "outputs": [],
   "source": [
    "idx_first = orders.groupby('user_id').head(1).index\n",
    "\n",
    "orders['is_first'] = False\n",
    "orders.loc[idx_first, 'is_first'] = True\n"
   ]
  },
  {
   "cell_type": "code",
   "execution_count": null,
   "id": "34ca378b-dc1d-49f4-884f-34fe2bc0fc84",
   "metadata": {},
   "outputs": [],
   "source": [
    "first_payed_order_ids = orders.query('status == \"Paid\"').groupby('user_id')['create_date'].idxmin()\n",
    "\n",
    "orders['is_first_payed'] = False\n",
    "orders.loc[first_payed_order_ids, 'is_first_payed'] = True"
   ]
  },
  {
   "cell_type": "code",
   "execution_count": null,
   "id": "d13fbe7f-eda2-4186-80f1-6d4742519637",
   "metadata": {},
   "outputs": [],
   "source": [
    "first_rec_payed_order_ids = orders.query('status == \"Paid\" and is_recurrent').groupby('user_id')['create_date'].idxmin()\n",
    "\n",
    "orders['is_first_rec_payed'] = False\n",
    "orders.loc[first_rec_payed_order_ids, 'is_first_rec_payed'] = True"
   ]
  },
  {
   "cell_type": "code",
   "execution_count": null,
   "id": "38f55b6b-9f93-4238-a0bf-f487c7c929d4",
   "metadata": {},
   "outputs": [],
   "source": [
    "idx_first = channels.groupby('user_id').head(1).index\n",
    "\n",
    "channels['is_first'] = False\n",
    "channels.loc[idx_first, 'is_first'] = True\n"
   ]
  },
  {
   "cell_type": "code",
   "execution_count": null,
   "id": "7915f48b-4304-4e48-a007-b60f3da45b72",
   "metadata": {},
   "outputs": [],
   "source": [
    "orders['campaing'] = orders['product_name'].apply(put_campaing_name)\n",
    "\n",
    "orders_payed = orders.query('status == \"Paid\"')"
   ]
  },
  {
   "cell_type": "code",
   "execution_count": null,
   "id": "6e7caa82-93b7-484e-b4e6-4fa809ea1de1",
   "metadata": {},
   "outputs": [],
   "source": [
    "user_cnt = donors['user_id'].nunique()"
   ]
  },
  {
   "cell_type": "code",
   "execution_count": null,
   "id": "b0f3493e-439e-4cd9-9189-de6f60fdd831",
   "metadata": {},
   "outputs": [],
   "source": [
    "rec_user_cnt = donors.query('is_recurrent')['user_id'].nunique()"
   ]
  },
  {
   "cell_type": "code",
   "execution_count": null,
   "id": "53558f1b-bf60-4c82-88b1-fd5fc186bfb5",
   "metadata": {},
   "outputs": [],
   "source": [
    "user_p_cnt = orders_payed['user_id'].nunique()"
   ]
  },
  {
   "cell_type": "code",
   "execution_count": null,
   "id": "fc58236a-0338-487e-b56f-744e5351311e",
   "metadata": {},
   "outputs": [],
   "source": [
    "rec_user_p_cnt = orders_payed.query('is_recurrent')['user_id'].nunique()\n"
   ]
  },
  {
   "cell_type": "code",
   "execution_count": null,
   "id": "f7db2e04-e720-4d7d-a0f1-9c0f02e58ff4",
   "metadata": {},
   "outputs": [],
   "source": [
    "donors['is_import'] = donors['user_id'].isin(imports['user_id'])\n",
    "donors['is_active'] = donors['user_id'].isin(channels.query('year == 2024')['user_id'])\n",
    "donors['is_payed'] = donors['user_id'].isin(orders.query('year == 2024')['user_id'])\n"
   ]
  },
  {
   "cell_type": "markdown",
   "id": "1ed5bf71-b34c-42c2-8503-e7d2129d8f83",
   "metadata": {},
   "source": [
    "## Пользовательские метрики"
   ]
  },
  {
   "cell_type": "markdown",
   "id": "3c311e2c-5664-4bb1-b8ed-85d87dde2304",
   "metadata": {},
   "source": [
    "### Общий портрет пользователя"
   ]
  },
  {
   "cell_type": "code",
   "execution_count": null,
   "id": "5934a953-1b1e-4058-b7c9-c79b9deef5b6",
   "metadata": {},
   "outputs": [],
   "source": [
    "message = f\"\"\"\n",
    "    Количество уникальных пользователей: {donors['user_id'].nunique()}:\n",
    "\n",
    "        - уникальных пользователей \"исторического импорта\": {imports.shape[0]};\n",
    "        - уникальных пользователей \"исторического импорта\" в таблице с донорами: {donors.query('is_import')['user_id'].nunique()};\n",
    "        - \"новых\" уникальных пользователей: {donors.query('is_import == False')['user_id'].nunique()};\n",
    "        - уникальных пользователей, активных в 2024 году: {donors.query('is_active')['user_id'].nunique()};\n",
    "        - уникальных пользователей, совершивших платежи в 2024 году: {donors.query('is_payed')['user_id'].nunique()}.\n",
    "\n",
    "    Дата регистрации / редактирования c {donors['update_date'].min().date()} по {donors['update_date'].max().date()}'.\n",
    "\n",
    "\"\"\"\n",
    " \n",
    "print(message)"
   ]
  },
  {
   "cell_type": "code",
   "execution_count": null,
   "id": "0aaa7f8f-4451-4132-99ea-4b7fb09cea4e",
   "metadata": {},
   "outputs": [],
   "source": [
    "draw_pie(\n",
    "    donors['is_recurrent'].value_counts().reset_index(name='cnt'),\n",
    "    'is_recurrent',\n",
    "    'cnt',\n",
    "    'Количество пользователей - рекурентов'\n",
    ")"
   ]
  },
  {
   "cell_type": "markdown",
   "id": "7fcd1fe3-e9f8-4d34-ab3c-dc0307d6d726",
   "metadata": {},
   "source": [
    "Рекурентных доноров только 3%."
   ]
  },
  {
   "cell_type": "code",
   "execution_count": null,
   "id": "ee9756db-cec7-4497-8c70-667e5cabf6ad",
   "metadata": {},
   "outputs": [],
   "source": [
    "draw_pie_compare(\n",
    "    donors.query('is_recurrent')['is_volunteer'].value_counts().reset_index(name='cnt'), \n",
    "    donors.query('not is_recurrent')['is_volunteer'].value_counts().reset_index(name='cnt'), \n",
    "    'is_volunteer', \n",
    "    'cnt', \n",
    "    'Количество пользователей - волонтеров',\n",
    "    'Рекурент',\n",
    "    'Не рекурент'\n",
    ")"
   ]
  },
  {
   "cell_type": "markdown",
   "id": "a39aeab9-a73c-4080-a8ef-a890eb9301ae",
   "metadata": {},
   "source": [
    "Среди рекурентов нет ни одного волонтера (всего их 6)."
   ]
  },
  {
   "cell_type": "code",
   "execution_count": null,
   "id": "cb512174-06da-4cdf-83b3-156dcf7d6e58",
   "metadata": {},
   "outputs": [],
   "source": [
    "draw_pie_compare(\n",
    "    donors.query('is_recurrent')['sex'].value_counts().reset_index(name='cnt'), \n",
    "    donors.query('not is_recurrent')['sex'].value_counts().reset_index(name='cnt'), \n",
    "    'sex', \n",
    "    'cnt', \n",
    "    'Пол пользователя',\n",
    "    'Рекурент',\n",
    "    'Не рекурент'\n",
    ")"
   ]
  },
  {
   "cell_type": "markdown",
   "id": "1f5618b2-74ad-454b-9f0a-20a99dd4200f",
   "metadata": {},
   "source": [
    "Женщины чаще всего совершают пожертвования - более 60%, 20-30% в зависимости от рекурентности - мужчины, остальные доноры при регистрации не указали пол."
   ]
  },
  {
   "cell_type": "code",
   "execution_count": null,
   "id": "854444fd-dc0c-4741-a834-bba7e7d285d0",
   "metadata": {},
   "outputs": [],
   "source": [
    "draw_pie_compare(\n",
    "    donors.query('is_recurrent')['is_valid_email'].value_counts().reset_index(name='cnt'), \n",
    "    donors.query('not is_recurrent')['is_valid_email'].value_counts().reset_index(name='cnt'), \n",
    "    'is_valid_email', \n",
    "    'cnt', \n",
    "    'Количество пользователей с валидной почтой',\n",
    "    'Рекурент',\n",
    "    'Не рекурент'\n",
    ")"
   ]
  },
  {
   "cell_type": "markdown",
   "id": "0362682f-a92d-480a-b8bd-543ded42bfe8",
   "metadata": {},
   "source": [
    "Менее 10% пользователей подтвердили свою электронную почту."
   ]
  },
  {
   "cell_type": "code",
   "execution_count": null,
   "id": "ec9d4974-e090-4e1a-8604-c4788394672e",
   "metadata": {},
   "outputs": [],
   "source": [
    "donors_timezone = (\n",
    "    donors\n",
    "    .pivot_table(index='timezone', columns='is_recurrent', values='user_id', aggfunc='count', fill_value=0)\n",
    "    .rename(columns={\n",
    "        True: 'yes',\n",
    "        False: 'no',\n",
    "    })\n",
    "    .sort_values(by='yes', ascending=False)\n",
    ")\n",
    "\n",
    "draw_bar_compare(\n",
    "    donors_timezone.div(donors_timezone.sum(axis=0), axis=1).reset_index().head(10), \n",
    "    'timezone', \n",
    "    'no', \n",
    "    'yes', \n",
    "    'ТОП-10 часовых поясов', \n",
    "    'Не рекурент', \n",
    "    'Рекурент', \n",
    "    'Часовой пояс', \n",
    "    'Доля от общего количества'\n",
    ")"
   ]
  },
  {
   "cell_type": "markdown",
   "id": "5adf3d7a-6d56-480f-8900-b378d06fb6c3",
   "metadata": {},
   "source": [
    "У рекурентных пользователей чаще всего указан часовой пояс Москва (почти 45%), для нерекурентных чаще всего часовой пояс не указан (более 50%)."
   ]
  },
  {
   "cell_type": "code",
   "execution_count": null,
   "id": "a7ec2d3b-1b04-4825-8981-771b6f59b8c3",
   "metadata": {},
   "outputs": [],
   "source": [
    "donors_region = (\n",
    "    donors\n",
    "    .pivot_table(index='region_name', columns='is_recurrent', values='user_id', aggfunc='count', fill_value=0)\n",
    "    .rename(columns={\n",
    "        True: 'yes',\n",
    "        False: 'no',\n",
    "    })\n",
    "    .sort_values(by='yes', ascending=False)\n",
    ")\n",
    "\n",
    "draw_bar_compare(\n",
    "    donors_region.div(donors_region.sum(axis=0), axis=1).reset_index().head(10), \n",
    "    'region_name', \n",
    "    'no', \n",
    "    'yes', \n",
    "    'ТОП-10 регионов', \n",
    "    'Не рекурент', \n",
    "    'Рекурент', \n",
    "    'Регион', \n",
    "    'Доля от общего количества'\n",
    ")"
   ]
  },
  {
   "cell_type": "markdown",
   "id": "b381af3f-2bbf-4c7b-9c31-861e6dc96f5e",
   "metadata": {},
   "source": [
    "Для всех пользователей не характерно указание региона (больше 70%). У оставшихся доноров чаще всего - Vienna, возможно, это связано с использованием VPN."
   ]
  },
  {
   "cell_type": "code",
   "execution_count": null,
   "id": "9c5192ad-06b8-41f4-b2e7-f9f89208c872",
   "metadata": {},
   "outputs": [],
   "source": [
    "draw_plot(\n",
    "    donors.query('is_recurrent')['month'].value_counts().reset_index(name='cnt').sort_values(by='month').set_index('month'), \n",
    "    'Дата появления/изменения рекурентных пользователей', \n",
    "    'Дата', \n",
    "    'Количество пользователей'\n",
    ")"
   ]
  },
  {
   "cell_type": "code",
   "execution_count": null,
   "id": "8011ad44-5836-4d98-a6b9-7e961411390b",
   "metadata": {},
   "outputs": [],
   "source": [
    "draw_plot(\n",
    "    donors['month'].value_counts().reset_index(name='cnt').sort_values(by='month').set_index('month'), \n",
    "    'Даты появления/изменения пользователей', \n",
    "    'Дата', \n",
    "    'Количество'\n",
    ")"
   ]
  },
  {
   "cell_type": "code",
   "execution_count": null,
   "id": "8aa627cd-15a7-40d2-ac06-93c737f2ecc4",
   "metadata": {},
   "outputs": [],
   "source": [
    "draw_bar_compare(\n",
    "    pd.pivot_table(\n",
    "        (\n",
    "            (\n",
    "                donors\n",
    "                .query('is_recurrent == True')[[\n",
    "                    'subscribed', \n",
    "                    'subscribed_sms',\n",
    "                    'subscribed_email',\n",
    "                    'subscribed_viber',\n",
    "                    'subscribed_mobile',\n",
    "                    'subscribed_push',\n",
    "                ]]\n",
    "            )\n",
    "            .melt(var_name='subscription_type', value_name='status')\n",
    "        ), \n",
    "        index='subscription_type', \n",
    "        columns='status', \n",
    "        aggfunc=len, \n",
    "        fill_value=0\n",
    "    )\n",
    "    .rename(columns={\n",
    "        True: 'yes',\n",
    "        False: 'no',\n",
    "    })\n",
    "    .reset_index(), \n",
    "    'subscription_type', \n",
    "    'no', \n",
    "    'yes', \n",
    "    'Статистика по подпискам рекурентов', \n",
    "    'Нет подписки', \n",
    "    'Есть подписка', \n",
    "    'Тип подписки', \n",
    "    'Количество'\n",
    ")"
   ]
  },
  {
   "cell_type": "code",
   "execution_count": null,
   "id": "9688d2dc-8a8c-4309-819e-b97404a65c79",
   "metadata": {},
   "outputs": [],
   "source": [
    "draw_bar_compare(\n",
    "    pd.pivot_table(\n",
    "        (\n",
    "            (\n",
    "                donors[[\n",
    "                    'subscribed', \n",
    "                    'subscribed_sms',\n",
    "                    'subscribed_email',\n",
    "                    'subscribed_viber',\n",
    "                    'subscribed_mobile',\n",
    "                    'subscribed_push',\n",
    "                ]]\n",
    "            )\n",
    "            .melt(var_name='subscription_type', value_name='status')\n",
    "        ), \n",
    "        index='subscription_type', \n",
    "        columns='status', \n",
    "        aggfunc=len, \n",
    "        fill_value=0\n",
    "    )\n",
    "    .rename(columns={\n",
    "        True: 'yes',\n",
    "        False: 'no',\n",
    "    })\n",
    "    .reset_index(), \n",
    "    'subscription_type', \n",
    "    'no', \n",
    "    'yes', \n",
    "    'Статистика по подпискам всех пользователей', \n",
    "    'Нет подписки', \n",
    "    'Есть подписка', \n",
    "    'Тип подписки', \n",
    "    'Количество'\n",
    ")"
   ]
  },
  {
   "cell_type": "markdown",
   "id": "630a88b0-fe65-451b-8226-f6554539079e",
   "metadata": {},
   "source": [
    "- Уникальных пользователей: 23820.\n",
    "- Уникальных пользователей «исторического импорта»: 7343.\n",
    "- Уникальных «новых» пользователей: 16477:\n",
    "- Рекуренты: 2.7% от общего количества.\n",
    "- Волонтеры: менее 1% от общего количества.\n",
    "- Пол: около 60% женщины, около 20-30% мужчины (варьируется в зависимости от рекурентности пользователя), у остальных 10-20% не определено.\n",
    "- Меньше чем у 10% пользователей подтверждена  электронная почта.\n",
    "- Тайм зона у большего пользователей не определена, или Moscow.\n",
    "- Регион так же не определён в большинстве случаев, но потом идет Vienna (возможно, это связано с использованием  VPN). На третьем месте – Москва.\n",
    "- Почти 99% пользователей подписаны только через email."
   ]
  },
  {
   "cell_type": "markdown",
   "id": "7072679c-6404-40f4-a34e-4df74f694583",
   "metadata": {},
   "source": [
    "### \"Исторический импорт\""
   ]
  },
  {
   "cell_type": "code",
   "execution_count": null,
   "id": "00f0b51f-4ba6-4b3a-a6ba-ec11f8d630df",
   "metadata": {},
   "outputs": [],
   "source": [
    "funnel_import = pd.DataFrame(\n",
    "    {\n",
    "        'type': [\n",
    "            'Всего', \n",
    "            'Активные в 2024', \n",
    "            'Платящие в 2024',\n",
    "            'Рекуренты в 2024'\n",
    "        ], \n",
    "        'cnt': [\n",
    "            donors.query('is_import == True')['user_id'].nunique(),\n",
    "            channels.query('user_id in @history_import_ids and year == 2024')['user_id'].nunique(),\n",
    "            orders_payed.query('user_id in @history_import_ids and year == 2024')['user_id'].nunique(),\n",
    "            orders_payed.query('user_id in @history_import_ids and year == 2024 and is_recurrent == True')['user_id'].nunique()\n",
    "        ]\n",
    "    }\n",
    ")\n",
    "\n"
   ]
  },
  {
   "cell_type": "code",
   "execution_count": null,
   "id": "15344ac1-f60d-4f31-8834-8bd0029c8ded",
   "metadata": {},
   "outputs": [],
   "source": [
    "draw_funnel(\n",
    "    funnel_import, \n",
    "    'cnt', \n",
    "    'type', \n",
    "    'Воронка по историческому импорту'\n",
    ")"
   ]
  },
  {
   "cell_type": "markdown",
   "id": "8170c128-fb8d-4695-9a98-8b137906e0ca",
   "metadata": {},
   "source": [
    "Почти 75% пользователей из \"исторического импорта\" активны в 2024 году, но только 8% совершают пожертвования, 3% из которых рекуренты."
   ]
  },
  {
   "cell_type": "code",
   "execution_count": null,
   "id": "d21d2200-92c4-49d1-9be5-bc03e1657b06",
   "metadata": {},
   "outputs": [],
   "source": [
    "draw_pie_compare(\n",
    "    donors.query('is_active and is_import')['is_recurrent'].value_counts().reset_index(name='cnt'), \n",
    "    donors.query('not is_active and is_import')['is_recurrent'].value_counts().reset_index(name='cnt'), \n",
    "    'is_recurrent', \n",
    "    'cnt', \n",
    "    'Количество рекурентов',\n",
    "    'Активные',\n",
    "    'Не активные'\n",
    ")"
   ]
  },
  {
   "cell_type": "markdown",
   "id": "605c1e87-1018-4d9a-b0b5-5734a79c4baa",
   "metadata": {},
   "source": [
    "Среди активных пользователей почти 6% рекуренты, среди неактивных пользователей рекурентов было меньше 1%."
   ]
  },
  {
   "cell_type": "code",
   "execution_count": null,
   "id": "0d988dbd-5ead-46c1-94c7-ede47069dd18",
   "metadata": {},
   "outputs": [],
   "source": [
    "draw_pie_compare(\n",
    "    donors.query('is_active and is_import')['is_volunteer'].value_counts().reset_index(name='cnt'), \n",
    "    donors.query('not is_active and is_import')['is_volunteer'].value_counts().reset_index(name='cnt'), \n",
    "    'is_volunteer', \n",
    "    'cnt', \n",
    "    'Количество волонтеров',\n",
    "    'Активные',\n",
    "    'Не активные'\n",
    ")"
   ]
  },
  {
   "cell_type": "markdown",
   "id": "bfd78f74-af6f-47c5-819c-246e7d731ecb",
   "metadata": {},
   "source": [
    "Среди пользователей \"исторического импорта\" нет ни одного волонтера."
   ]
  },
  {
   "cell_type": "code",
   "execution_count": null,
   "id": "1c0141c3-2e32-45c1-88e6-9ca9ddf8b037",
   "metadata": {},
   "outputs": [],
   "source": [
    "draw_pie_compare(\n",
    "    donors.query('is_active and is_import')['sex'].value_counts().reset_index(name='cnt'), \n",
    "    donors.query('not is_active and is_import')['sex'].value_counts().reset_index(name='cnt'), \n",
    "    'sex', \n",
    "    'cnt', \n",
    "    'Пол пользователя',\n",
    "    'Активные',\n",
    "    'Не активные'\n",
    ")"
   ]
  },
  {
   "cell_type": "markdown",
   "id": "59b2d83f-8ec1-4269-b4b2-c64c5e88cce3",
   "metadata": {},
   "source": [
    "Пользователями \"исторического импорта\" чаще всего являются женщины, в 20% это мужчины, и около 30-35% доноров не указали свой пол, возможно, это какие-либо компании."
   ]
  },
  {
   "cell_type": "markdown",
   "id": "ea576731-1c84-48ac-8a1e-b640e59830e7",
   "metadata": {},
   "source": [
    "### \"Новые\" пользователи"
   ]
  },
  {
   "cell_type": "code",
   "execution_count": null,
   "id": "697f7456-584e-47f2-8628-4ec9b6bcaca7",
   "metadata": {},
   "outputs": [],
   "source": [
    "first_stat = pd.merge(\n",
    "    orders.query('is_first')[['user_id', 'create_date']], \n",
    "    channels.query('is_first')[['user_id', 'event_dt']], \n",
    "    on='user_id',\n",
    "    how='outer'\n",
    ")\n",
    "\n",
    "first_stat['days'] = (first_stat['create_date'] - first_stat['event_dt']).dt.days\n",
    "\n"
   ]
  },
  {
   "cell_type": "code",
   "execution_count": null,
   "id": "0541acc7-f720-477e-8149-bb3c1f93e55f",
   "metadata": {},
   "outputs": [],
   "source": [
    "draw_box(\n",
    "    first_stat, \n",
    "    'days', \n",
    "    'Кол-во дней между первой оплатой и первой активностью',\n",
    "    10\n",
    ")"
   ]
  },
  {
   "cell_type": "markdown",
   "id": "51841f55-95bb-46a1-b388-f89c1cf8af2f",
   "metadata": {},
   "source": [
    "Чаще всего между оплатой и первой активностью проходит не больше 1 дня. Причем сначала происходит пожертвование, после чего пользователь регистрируется в системе, тем самым совершает первую актиность на сайте. Но есть пользователи, которые ни разу не совершили платеж (причем не важно прошел он или нет), но активности по ним есть, т.е. он был зарегистрирован минуя оплату."
   ]
  },
  {
   "cell_type": "code",
   "execution_count": null,
   "id": "a33161c4-e8df-4135-820f-218a44f48ec0",
   "metadata": {},
   "outputs": [],
   "source": [
    "df_isna_info(first_stat)"
   ]
  },
  {
   "cell_type": "markdown",
   "id": "d370b3f8-38f2-42cf-93b1-9b9d803f278f",
   "metadata": {},
   "source": [
    "Почти 10% пользователей зарегистрированы в системе, минуя оплату."
   ]
  },
  {
   "cell_type": "code",
   "execution_count": null,
   "id": "77eec743-7d98-4e83-a6f6-23344934a869",
   "metadata": {},
   "outputs": [],
   "source": [
    "user_without_payed = first_stat[first_stat['create_date'].isna()]['user_id'].unique()\n",
    "\n",
    "donors.query('user_id in @user_without_payed')['is_import'].value_counts()"
   ]
  },
  {
   "cell_type": "markdown",
   "id": "b147b767-7a6e-4b3b-8191-553cb98629ce",
   "metadata": {},
   "source": [
    "Почти 70% это пользователи из \"исторического импорта\"."
   ]
  },
  {
   "cell_type": "code",
   "execution_count": null,
   "id": "a631434c-e2c9-40ab-a7e3-ee680207994f",
   "metadata": {},
   "outputs": [],
   "source": [
    "old_donor_idx = donors.query('is_import == True')['user_id'].unique()\n",
    "new_donor_idx = donors.query('is_import == False')['user_id'].unique()\n"
   ]
  },
  {
   "cell_type": "markdown",
   "id": "2ba1d618-ed79-4909-bdc7-600ac4bc64d2",
   "metadata": {},
   "source": [
    "Нашли уникальные ID пользователей из \"исторического импорта\", и \"новых\" доноров."
   ]
  },
  {
   "cell_type": "code",
   "execution_count": null,
   "id": "4d51fbf5-1eaa-4673-9fc5-020e9b8cfdf9",
   "metadata": {},
   "outputs": [],
   "source": [
    "first_channel = channels.query('is_first and user_id in @new_donor_idx')['channel_id'].value_counts().reset_index(name='user_cnt')\n",
    "first_channel['channel_name'] = first_channel['channel_id'].map(dic_channels)\n",
    "\n",
    "draw_bar_horizontal(\n",
    "    first_channel, \n",
    "    'channel_name',\n",
    "    'user_cnt',\n",
    "    'Каналы первой активности \"новых\" пользователей',\n",
    "    'Канал',\n",
    "    'Количество пользователей',\n",
    ")"
   ]
  },
  {
   "cell_type": "markdown",
   "id": "6bbee097-6429-4ac6-86c6-175b41be354c",
   "metadata": {},
   "source": [
    "Чаще всего каналом для первой активности \"новых\" пользователей указан `Сайт` (более чем в 50%, у 17% он определен как `Email`)."
   ]
  },
  {
   "cell_type": "code",
   "execution_count": null,
   "id": "9ffdd779-d181-455e-a95a-66016086e6ca",
   "metadata": {},
   "outputs": [],
   "source": [
    "draw_plot(\n",
    "    channels.query('is_first and user_id in @new_donor_idx')['month'].value_counts().reset_index(name='cnt').sort_values(by='month').set_index('month'), \n",
    "    'Первые активности \"новых\" пользователей по месяцам', \n",
    "    'Дата', \n",
    "    'Количество'\n",
    ")"
   ]
  },
  {
   "cell_type": "markdown",
   "id": "e91ea156-3bd2-42ec-9541-0a1d9e74c8fb",
   "metadata": {},
   "source": [
    "- 75% пользователей «исторического импорта» проявляют активность, при этом платящих клиентов только 8.6%, рекуренты из них – 3%.\n",
    "- Волонтеров среди «исторического импорта» нет.\n",
    "- Первым касанием с пользователем чаще всего является первая оплата (или ее попытка), во время которой фонд получает контактные данные пользователя, и может в дальнейшем информировать его с помощью рассылок. Но для 10% есть активности, хотя не было никаких оплат (треть из них это «исторический импорт»).\n",
    "- Первая активность «новых пользователей» чаще всего была через Сайт, или Email.\n",
    "- Всплеск первых активностей новых пользователей наблюдается августе 2022 года, феврале 2024 и сентябре 2023.\n",
    "- Всплеск первых оплат новых пользователей наблюдался те же месяца."
   ]
  },
  {
   "cell_type": "markdown",
   "id": "3f26a12e-aa72-4c4c-8439-ec9bad70aac7",
   "metadata": {},
   "source": [
    "### Оценка пользовательской активности"
   ]
  },
  {
   "cell_type": "code",
   "execution_count": null,
   "id": "9d009f95-69fd-4632-adbb-0aeaf5696c75",
   "metadata": {},
   "outputs": [],
   "source": [
    "pivot_dau = (\n",
    "    orders_payed\n",
    "    .pivot_table(index='date', values='user_id', aggfunc='nunique', fill_value=0)\n",
    "    .reset_index()\n",
    "    .set_index('date')\n",
    ")\n"
   ]
  },
  {
   "cell_type": "code",
   "execution_count": null,
   "id": "3ea7e2cd-22c1-4e21-9c34-84bc54a194d7",
   "metadata": {},
   "outputs": [],
   "source": [
    "draw_plot(\n",
    "    pivot_dau, \n",
    "    'DAU', \n",
    "    'Дата', \n",
    "    'Количество уникальных пользователей'\n",
    ")"
   ]
  },
  {
   "cell_type": "code",
   "execution_count": null,
   "id": "6cb470ac-2c41-4e4d-bfae-aad7e49d1113",
   "metadata": {},
   "outputs": [],
   "source": [
    "pivot_wau = (\n",
    "    orders_payed\n",
    "    .pivot_table(index='start_of_week', values='user_id', aggfunc='nunique', fill_value=0)\n",
    "    .reset_index()\n",
    "    .set_index('start_of_week')\n",
    ")\n"
   ]
  },
  {
   "cell_type": "code",
   "execution_count": null,
   "id": "1352ab4e-989a-4677-b135-6b5f73e10789",
   "metadata": {},
   "outputs": [],
   "source": [
    "draw_plot(\n",
    "    pivot_wau, \n",
    "    'WAU', \n",
    "    'Дата', \n",
    "    'Количество уникальных пользователей'\n",
    ")"
   ]
  },
  {
   "cell_type": "code",
   "execution_count": null,
   "id": "25955c10-cb3f-49a9-a2df-efa71cc8e37b",
   "metadata": {},
   "outputs": [],
   "source": [
    "pivot_mau = (\n",
    "    orders_payed\n",
    "    .pivot_table(index='month', values='user_id', aggfunc='nunique', fill_value=0)\n",
    "    .reset_index()\n",
    "    .set_index('month')\n",
    ")\n"
   ]
  },
  {
   "cell_type": "code",
   "execution_count": null,
   "id": "0d39c35f-3fa3-4746-885e-0526394f5129",
   "metadata": {},
   "outputs": [],
   "source": [
    "draw_plot(\n",
    "    pivot_mau, \n",
    "    'MAU', \n",
    "    'Дата', \n",
    "    'Количество уникальных пользователей'\n",
    ")"
   ]
  },
  {
   "cell_type": "markdown",
   "id": "d0e34986-830e-445f-b011-ab66beeaf380",
   "metadata": {},
   "source": [
    "На основе анализа графиков DAU (Daily Active Users), WAU (Weekly Active Users) и MAU (Monthly Active Users) можно сделать следующие выводы:\n",
    "- Все три показателя демонстрируют общую тенденцию к росту, что указывает на стабильное увеличение пользовательской базы и вовлеченности.\n",
    "- Наблюдаются локальные падения активности в марте 2022 и феврале 2023 годов, что может быть связано с сезонными факторами или внешними событиями.\n",
    "- В конце 2021 и середине 2022 года отмечен значительный рост, вероятно, вызванный успешными маркетинговыми кампаниями или улучшениями в сервисе.\n",
    "- Максимальный пик активности наблюдается в феврале 2024 года, что может свидетельствовать о крупных обновлениях или эффективных стратегиях привлечения пользователей."
   ]
  },
  {
   "cell_type": "markdown",
   "id": "49d70d1e-20f9-40b6-a733-e0dce2135d84",
   "metadata": {},
   "source": [
    "## RFM анализ - сегментация клиентской базы\n",
    "\n",
    "RFM — это метод, используемый для анализа потребительской ценности.\n",
    "\n",
    "Он группирует клиентов на основе истории их транзакций:\n",
    "\n",
    "- `Recency/Давность` — как давно клиент совершил покупку;\n",
    "- `Frequency/Частота` — как часто он совершал покупки;\n",
    "- `Monetary Value/Денежная ценность` — сколько он тратил.\n",
    "  \n",
    "В нашем случае выберем в качестве:\n",
    "\n",
    "- `Recency` — время отсутствия пользователя (количество дней с момента последнего пожертвования);\n",
    "- `Frequency` — количество пожертвований в день;\n",
    "- `Monetary Value` — суммарный доход от пожертвований пользователя.\n"
   ]
  },
  {
   "cell_type": "code",
   "execution_count": null,
   "id": "95c6100d-ec92-4d46-986a-3e4d7415e719",
   "metadata": {},
   "outputs": [],
   "source": [
    "orders['order_id'].nunique()"
   ]
  },
  {
   "cell_type": "code",
   "execution_count": null,
   "id": "d9f92e69-255f-4ebb-a24c-785540c13371",
   "metadata": {},
   "outputs": [],
   "source": [
    "draw_pie(\n",
    "    orders['status'].value_counts().reset_index(),\n",
    "    'status',\n",
    "    'count', \n",
    "    'Статус оплаты пожертвования'\n",
    ")"
   ]
  },
  {
   "cell_type": "markdown",
   "id": "817e7c60-1446-4a31-bf54-e2b72eff5784",
   "metadata": {},
   "source": [
    "Для RFM анализа будем использовать только такие платежи, которые имеют статус `Paid`."
   ]
  },
  {
   "cell_type": "code",
   "execution_count": null,
   "id": "309b1acb-875c-4212-8dd5-e2d5d9354c7e",
   "metadata": {},
   "outputs": [],
   "source": [
    "info_from_orders = (\n",
    "    orders_payed\n",
    "    .groupby('user_id')\n",
    "    .agg(\n",
    "        {\n",
    "            'create_date': lambda x: (start_date - x.max()).days, \n",
    "            'order_id': 'count',\n",
    "            'total_price' : 'sum',\n",
    "        }\n",
    "    )\n",
    "    .rename(\n",
    "        columns={\n",
    "            'create_date': 'r', \n",
    "            'order_id': 'order_cnt',\n",
    "            'total_price' : 'm'\n",
    "        }\n",
    "    )\n",
    "    .reset_index()\n",
    ")\n"
   ]
  },
  {
   "cell_type": "markdown",
   "id": "58613108-991f-4d35-8cec-de76bf76ef1a",
   "metadata": {},
   "source": [
    "Для `Recency` необходимо посчитать количество пожертвований в день, для каждого пользователя, поэтому необходимо найти суммарное время активности пользователя в фонде."
   ]
  },
  {
   "cell_type": "code",
   "execution_count": null,
   "id": "717a75e9-afc6-44ec-8306-da103b840acb",
   "metadata": {},
   "outputs": [],
   "source": [
    "info_from_active = (\n",
    "    channels\n",
    "    .groupby('user_id')\n",
    "    .agg(\n",
    "        {\n",
    "            'action_date': lambda x: (x.max() - x.min()).days, \n",
    "        }\n",
    "    )\n",
    "    .rename(\n",
    "        columns={\n",
    "            'action_date' : 'active_day_cnt'\n",
    "        }\n",
    "    )\n",
    "    .reset_index()\n",
    ")\n"
   ]
  },
  {
   "cell_type": "code",
   "execution_count": null,
   "id": "045fb651-b704-47a6-9e44-a5c83380c86e",
   "metadata": {},
   "outputs": [],
   "source": [
    "rfm = info_from_orders.merge(info_from_active, how = 'left', on='user_id').fillna(0)\n",
    "rfm['f'] = (rfm['order_cnt'] / (rfm['active_day_cnt'] + 1)).round(4) \n",
    "rfm = rfm[['user_id', 'r', 'f', 'm']]\n",
    "rfm"
   ]
  },
  {
   "cell_type": "markdown",
   "id": "812532e8-99ac-40ce-b9a6-dff819873359",
   "metadata": {},
   "source": [
    "Теперь необходимо просмегментировать каждого пользователя по каждому параметру рангом от 1 до 3. Для подсчета ранга будем использовать 33 и 66 перцентиль, при подсчете перцентилей выбросы учитывать не будем."
   ]
  },
  {
   "cell_type": "code",
   "execution_count": null,
   "id": "76ebef48-b774-4f6f-9b64-4696eed0237b",
   "metadata": {},
   "outputs": [],
   "source": [
    "draw_box(rfm, 'r', 'Диаграмма размаха для параметра \"Давность\"')\n",
    "\n",
    "rfm['r_seg'] = pd.cut(rfm['r'], labels=[1,2,3], bins=rank_value(rfm, 'r'), include_lowest=True)\n"
   ]
  },
  {
   "cell_type": "code",
   "execution_count": null,
   "id": "87d840e2-5ef7-40da-b4d4-df583131264b",
   "metadata": {},
   "outputs": [],
   "source": [
    "draw_box(rfm, 'f', 'Диаграмма размаха для параметра \"Частота\"', 0.05)\n",
    "\n",
    "rfm['f_seg'] = pd.cut(rfm['f'], labels=[3,2,1], bins=rank_value(rfm, 'f'), include_lowest=True)\n"
   ]
  },
  {
   "cell_type": "code",
   "execution_count": null,
   "id": "50f0550e-eaf6-4461-abe7-40480f06995c",
   "metadata": {},
   "outputs": [],
   "source": [
    "draw_box(rfm, 'm', 'Диаграмма размаха для параметра \"Денежная ценность\"', 3000)\n",
    "\n",
    "rfm['m_seg'] = pd.cut(rfm['m'], labels=[3,2,1], bins=rank_value(rfm, 'm'), include_lowest=True)\n"
   ]
  },
  {
   "cell_type": "code",
   "execution_count": null,
   "id": "ebd65b38-6c3a-4906-8f6d-cf12c9eeae6a",
   "metadata": {
    "jupyter": {
     "source_hidden": true
    }
   },
   "outputs": [],
   "source": [
    "rfm['RFM'] = rfm['r_seg'].astype('str') + rfm['f_seg'].astype('str') + rfm['m_seg'].astype('str')\n",
    "rfm"
   ]
  },
  {
   "cell_type": "markdown",
   "id": "85ac2163-54af-44b7-94ae-0241d52b58f1",
   "metadata": {},
   "source": [
    "В итоге получилось 27 сегментов с числовыми значениями распределёнными определённым образом в интервале от 111 до 333 включительно, где: \n",
    "- первая цифра - показатель “Давность” пожертвования:\n",
    "    - 1 - пожертвование не позднее 165 дней назад.\n",
    "    - 2 - пожертвование от 165 до 563 дней назад.\n",
    "    - 3 - пожертвование раньше 563 дней назад.\n",
    "- вторая - показатель “Частота” (отношение количества пожертвований на количество дней жизни донора):\n",
    "    - 1 - пожертвование не реже 0.0069 раза в сутки.\n",
    "    - 2 - пожертвование от 0.0023 до 0.0069 раза в сутки.\n",
    "    - 3 - пожертвование реже 0.0023 раза в сутки.\n",
    "- третья - показатель “Денежная ценность”:\n",
    "    - 1 - суммарно более 500 рублей.\n",
    "    - 2 - суммарно от 300 до 500 рублей.\n",
    "    - 3 - менее 300 рублей.\n",
    "\n",
    "Для удобства и упрощения восприятия некоторые сегменты можно объединять в группы.\n"
   ]
  },
  {
   "cell_type": "code",
   "execution_count": null,
   "id": "471e754a-0092-4b49-a2b1-b457342ce6b9",
   "metadata": {},
   "outputs": [],
   "source": [
    "rfm_data"
   ]
  },
  {
   "cell_type": "code",
   "execution_count": null,
   "id": "e9db74f0-6af5-4f51-9cb6-dab9008af660",
   "metadata": {},
   "outputs": [],
   "source": [
    "rfm_stat = (\n",
    "    rfm['RFM']\n",
    "    .value_counts()\n",
    ")\n"
   ]
  },
  {
   "cell_type": "code",
   "execution_count": null,
   "id": "1d006a97-7330-42bb-bb13-c19e8a832325",
   "metadata": {},
   "outputs": [],
   "source": [
    "draw_bar_horizontal(\n",
    "    rfm_stat.reset_index(name='cnt'), \n",
    "    'RFM',\n",
    "    'cnt',\n",
    "    'RFM - анализ',\n",
    "    'Сегмент',\n",
    "    'Количество пользователей'\n",
    ")"
   ]
  },
  {
   "cell_type": "code",
   "execution_count": null,
   "id": "1e2e4a4b-0938-4707-abe3-d3077602ef2a",
   "metadata": {},
   "outputs": [],
   "source": [
    "draw_bar_horizontal(\n",
    "    (\n",
    "        pd\n",
    "        .merge(rfm_data, rfm_stat.reset_index(name='cnt'), on='RFM')\n",
    "        .groupby('Определение группы')['cnt']\n",
    "        .sum()\n",
    "        .reset_index()\n",
    "        \n",
    "    ),\n",
    "    'Определение группы',\n",
    "    'cnt',\n",
    "    'RFM - анализ по группам',\n",
    "    'Группа',\n",
    "    'Количество пользователей'\n",
    ")"
   ]
  },
  {
   "cell_type": "code",
   "execution_count": null,
   "id": "93ec0339-4b76-4de3-a813-ebf20fee3023",
   "metadata": {},
   "outputs": [],
   "source": [
    "rfm_lost = rfm.query('RFM in (\"333\", \"331\", \"332\", \"333\")')['user_id'].unique()\n",
    "donors_lost = donors.query('user_id in @rfm_lost')\n"
   ]
  },
  {
   "cell_type": "code",
   "execution_count": null,
   "id": "362154b6-d3a9-4ae9-a9d3-b3e0c40fb363",
   "metadata": {},
   "outputs": [],
   "source": [
    "draw_pie(\n",
    "    donors_lost['is_import'].value_counts().reset_index(name='cnt'),\n",
    "    'is_import',\n",
    "    'cnt',\n",
    "    'Количество \"потерянных\" пользователей из исторического импорта'\n",
    ")"
   ]
  },
  {
   "cell_type": "code",
   "execution_count": null,
   "id": "fdb0b2c5-9282-4586-8370-f5c5558715df",
   "metadata": {},
   "outputs": [],
   "source": [
    "draw_pie(\n",
    "    donors_lost['is_recurrent'].value_counts().reset_index(name='cnt'), \n",
    "    'is_recurrent',\n",
    "    'cnt',\n",
    "    'Количество \"потерянных\" пользователей - рекурентов'\n",
    ")"
   ]
  },
  {
   "cell_type": "markdown",
   "id": "d4f6c6bc-2777-4304-9f1e-92f203a845cb",
   "metadata": {},
   "source": [
    "Анализ сегментов выявил наиболее популярные категории клиентов благотворительного фонда. Сегмент 111 (15.12%) приносит наибольшую ценность компании. Сегмент 333 (13.32%) - менее ценный для компании. Сегмент 113 (9.42%) - клиенты готовы жертвовать крупные суммы, но их необходимо мотивировать к более частым пожертвованиям. Сегмент 223 (8.99%) клиенты нейтральны и требуют более глубокого анализа.\n"
   ]
  },
  {
   "cell_type": "markdown",
   "id": "17514ea5-dc4e-4f22-96e6-3b2dbff996c8",
   "metadata": {},
   "source": [
    "Выводы:\n",
    "- Удержание доноров из сегмента 111 (недавние, частые и крупные пожертвования) - наибольшая ценность для фонда:\n",
    "    - Отправление индивидуальных писем с благодарностями и отчетами о результатах пожертвований.\n",
    "    - Создание программ, которые поощряют постоянные пожертвования, например, предоставление донорских привилегий.\n",
    "- Стимулирование доноров из сегмента 113 (недавние и частые, но малые пожертвования) - готовы жертвовать суммы, но нужно мотивировать на увеличение пожертвований:\n",
    "    - Регулярное информирование таких доноров о текущих проектах и результатах их пожертвований.\n",
    "    - Предложение поучаствовать в различных проектах фонда, которые могут их заинтересовать.\n",
    "- Активизация доноров из сегмента 223 (средние значения по всем параметрам) - нейтральный сегмент, требует внимания и анализа:\n",
    "    - Анализ обратной связи, чтобы понять их потребности и желания.\n",
    "- Реактивация доноров из сегмента 333 (редкие, давние и небольшие пожертвования) - менее ценный сегмент, но потенциально можно реактивировать:\n",
    "    - Предоставление уникальных предложений для возвращения доноров, такие как матчи пожертвований (удваивание пожертвований за счет крупного донора).\n",
    "    - Использование автоматических напоминаний и уведомлений о возможности пожертвовать.\n",
    "- Работа с другими сегментами:\n",
    "    - Для сегментов с высокими показателями F и M, но низкими R (например, 211, 213): необходимо сосредоточиться на возвращении доноров, стимулируя частоту пожертвований.\n",
    "    - Для сегментов с высокими показателями R и F, но низкими M (например, 321, 121): необходимо сосредоточиться на увеличении среднего размера пожертвования.\n"
   ]
  },
  {
   "cell_type": "markdown",
   "id": "922c636c-df0a-4130-a21d-b553e0237c98",
   "metadata": {},
   "source": [
    "Общие рекомендации:\n",
    "\n",
    "- Использование данных для создания персонализированных предложений и благодарностей.\n",
    "- Постоянный анализ поведения доноров и обновление RFM-анализа.\n",
    "- Прозрачная отчетность о том, как используются пожертвования.\n",
    "- Вовлечение доноров в деятельность фонда.\n",
    "  \n",
    "Расширение базы точек контактов доноров может помочь вернуть \"Спящих клиентов\":\n",
    "- Сбор номеров мобильных телефонов при регистрации или активном действии, объясняя это необходимостью более оперативного и удобного информирования. Электронные письма не самый удачный канал для оповещения доноров, но именно он чаще всего встречается у пользователей.\n",
    "- Использование SMS-уведомлений с напоминаниями о пожертвованиях, ссылками на отчеты и новостями фонда.\n",
    "- Оптимизация частоты и контента сообщений, сообщения должны быть краткими и информативными, необходимо изюегать чрезмерного количества отправок.\n",
    "- Использование мессенджеров.\n",
    "  \n",
    "Стимулирование рекуррентных пожертвований:\n",
    "- Объяснение значимости регулярных пожертвований.\n",
    "- Простая настройка и отмена регулярных платежей.\n",
    "- Идеи для стимулирования, такие как округление счетов (работа совместно с банками).\n",
    "- Программы лояльности и поощрения.\n",
    "- Прозрачность и отчетность.\n",
    "- Мобильные приложения и автоматизация.\n",
    "  \n",
    "Эти шаги помогут эффективно предложить рекуррентные платежи донорам, которые готовы к этому, и обеспечат стабильное финансирование для реализации благотворительных проектов."
   ]
  },
  {
   "cell_type": "markdown",
   "id": "c6eb0a3d-b316-4cf7-a2a1-de970204a209",
   "metadata": {},
   "source": [
    "## Коммерческие метрики"
   ]
  },
  {
   "cell_type": "markdown",
   "id": "5a89d862-d876-4c0b-92c4-a79b5efa6714",
   "metadata": {},
   "source": [
    "### Средний чек"
   ]
  },
  {
   "cell_type": "code",
   "execution_count": null,
   "id": "54ff2ccb-6789-4f3e-8040-d00ea89785de",
   "metadata": {},
   "outputs": [],
   "source": [
    "draw_box(\n",
    "    orders_payed,\n",
    "    'total_price',\n",
    "    'Средний оплаченный чек пользователя',\n",
    "    1500\n",
    ")"
   ]
  },
  {
   "cell_type": "code",
   "execution_count": null,
   "id": "3c7d4816-9cf4-4c86-8b73-de20479f80ee",
   "metadata": {},
   "outputs": [],
   "source": [
    "draw_box(\n",
    "    orders_payed.groupby('user_id')['order_id'].count().reset_index(name='cnt'),\n",
    "    'cnt',\n",
    "    'Количество оплаченных чеков пользователем',\n",
    "    5\n",
    ")"
   ]
  },
  {
   "cell_type": "code",
   "execution_count": null,
   "id": "d4cabb75-8cd2-429d-906f-b767a285c095",
   "metadata": {},
   "outputs": [],
   "source": [
    "draw_box(\n",
    "    orders_payed.groupby('date')['order_id'].count().reset_index(name='cnt'),\n",
    "    'cnt',\n",
    "    'Количество оплаченных чеков в день',\n",
    "    150\n",
    ")"
   ]
  },
  {
   "cell_type": "code",
   "execution_count": null,
   "id": "cc49a449-e6ea-4cc3-bc63-69c6b66825a8",
   "metadata": {},
   "outputs": [],
   "source": [
    "orders_payed.pivot_table(index='month', values='total_price', aggfunc='mean')"
   ]
  },
  {
   "cell_type": "code",
   "execution_count": null,
   "id": "784620c1-1919-4609-af5b-67c1cdef2ff0",
   "metadata": {},
   "outputs": [],
   "source": [
    "draw_plot(\n",
    "    orders_payed.pivot_table(index='month', values='total_price', aggfunc='mean'), \n",
    "    'Динамика распределения среднего чека', \n",
    "    'Месяц', \n",
    "    'Средний чек'\n",
    ")"
   ]
  },
  {
   "cell_type": "code",
   "execution_count": null,
   "id": "01fd9693-8bc8-423b-8248-26ec228ab642",
   "metadata": {},
   "outputs": [],
   "source": []
  },
  {
   "cell_type": "code",
   "execution_count": null,
   "id": "94a879fd-d096-4298-a519-87a8eb5cea86",
   "metadata": {},
   "outputs": [],
   "source": [
    "orders_payed.groupby('month')['total_price'].mean().reset_index(name='mean_price').sort_values(by='mean_price', ascending=False).head(5)"
   ]
  },
  {
   "cell_type": "code",
   "execution_count": null,
   "id": "58931123-b30c-4559-9266-03884d821d59",
   "metadata": {},
   "outputs": [],
   "source": [
    "orders_payed.groupby('month')['total_price'].mean().reset_index(name='mean_price').sort_values(by='mean_price', ascending=False).tail(5)"
   ]
  },
  {
   "cell_type": "code",
   "execution_count": null,
   "id": "2edab17b-77c5-48c5-8082-8b566a3bb6a0",
   "metadata": {},
   "outputs": [],
   "source": [
    "draw_bar_horizontal(\n",
    "    orders_payed.groupby('product_name')['total_price'].mean().reset_index(name='mean_price'), \n",
    "    'product_name', \n",
    "    'mean_price',\n",
    "    'ТОП-10 назначений по среднему чеку',\n",
    "    'Средний чек',\n",
    "    'Назначение платежа',\n",
    "    is_top=True\n",
    ")"
   ]
  },
  {
   "cell_type": "markdown",
   "id": "289e0e6a-ee6a-4474-9b5f-0b52a2252322",
   "metadata": {},
   "source": [
    "Выводы:\n",
    "\n",
    "- Среднее пожертвование пользователя варьируется от 110 до 500 рублей.\n",
    "- Среднее количество оплат на одного пользователя от 1 до 3х.\n",
    "- Среднее количество платежей в день колеблется от 19 до 53.\n",
    "- Самый высокий средний чек наблюдался в апреле 2024 года, в феврале 2023 и марте 2023 года.\n",
    "- Самый низкий средний чек наблюдался в феврале 2022, январе 2024 и ноябре 2021 года.\n",
    "- Самый высокий средний чек по назначению платежа был для Александра Слепухина, Дарьи Тортоевой и Никиты Яковлева."
   ]
  },
  {
   "cell_type": "markdown",
   "id": "1de0d7a9-b0fc-4ac1-9cea-1dbd0dae7912",
   "metadata": {},
   "source": [
    "### Главный источник входа для пользователей"
   ]
  },
  {
   "cell_type": "code",
   "execution_count": null,
   "id": "9e05460c-3174-490d-9e62-dbdeea6b20ce",
   "metadata": {},
   "outputs": [],
   "source": [
    "main_channel_stat = (\n",
    "    channels\n",
    "    .query('is_first')['channel_id']\n",
    "    .value_counts()\n",
    "    .reset_index(name='percent')\n",
    ")\n",
    "main_channel_stat['channel_name'] = main_channel_stat['channel_id'].map(dic_channels)\n",
    "\n",
    "draw_bar_horizontal(\n",
    "    main_channel_stat, \n",
    "    'channel_name', \n",
    "    'percent',\n",
    "    'Статистика по первому источнику входа для всех пользователей',\n",
    "    'Доля',\n",
    "    'Канал привлечения'\n",
    ")\n"
   ]
  },
  {
   "cell_type": "code",
   "execution_count": null,
   "id": "c84ac407-2995-4a8f-9861-0662f4f86d22",
   "metadata": {},
   "outputs": [],
   "source": [
    "main_channel_stat_import =(\n",
    "    channels\n",
    "    .query('is_first and user_id in @history_import_ids')\n",
    "    .pivot_table(index='month', columns='channel_id', values='user_id', aggfunc= 'count')\n",
    ")\n",
    "\n",
    "main_channel_stat_import.rename(columns=dic_channels, inplace=True)\n",
    "\n"
   ]
  },
  {
   "cell_type": "code",
   "execution_count": null,
   "id": "2dacbddf-d115-4ea3-a4b1-c27a87d7dd7f",
   "metadata": {},
   "outputs": [],
   "source": [
    "draw_plot(\n",
    "    main_channel_stat_import, \n",
    "    'Динамика каналов привлечения для \"исторического импорта\"', \n",
    "    'Месяц', \n",
    "    'Количество доноров'\n",
    ")"
   ]
  },
  {
   "cell_type": "code",
   "execution_count": null,
   "id": "feee76c2-4963-4205-84d9-1d259f02d828",
   "metadata": {},
   "outputs": [],
   "source": [
    "main_channel_stat_import =(\n",
    "    channels\n",
    "    .query('is_first and user_id not in @history_import_ids')\n",
    "    .pivot_table(index='month', columns='channel_id', values='user_id', aggfunc= 'count')\n",
    ")\n",
    "\n",
    "main_channel_stat_import.rename(columns=dic_channels, inplace=True)\n",
    "\n"
   ]
  },
  {
   "cell_type": "code",
   "execution_count": null,
   "id": "716b122d-ce31-409f-908b-4734bfd4bce4",
   "metadata": {},
   "outputs": [],
   "source": [
    "draw_plot(\n",
    "    main_channel_stat_import, \n",
    "    'Динамика каналов привлечения для \"новых\" доноров', \n",
    "    'Месяц', \n",
    "    'Количество доноров'\n",
    ")"
   ]
  },
  {
   "cell_type": "code",
   "execution_count": null,
   "id": "e8fde1ae-427d-4b69-a079-0631b45a96c3",
   "metadata": {},
   "outputs": [],
   "source": [
    "channels.query('is_first')['month'].value_counts().reset_index().head(5)"
   ]
  },
  {
   "cell_type": "markdown",
   "id": "5f466af5-23e4-47c6-91d2-3a14348a3a62",
   "metadata": {},
   "source": [
    "Главным источником входа пользователя чаще всего является Сайт. Клиент делает пожертвование, после кого оставляет свои контакты в системе, этот момент можно считать первым касанием с пользователем.\n",
    "\n",
    "Пользователи из \"исторического импорта\" совершили свое касание после импорта данных до мая 2022, кто этого хотел, больше не было новых вхождений исторического импорта. \n",
    "\n",
    "Новые пользователи активно подключаются к фонду."
   ]
  },
  {
   "cell_type": "markdown",
   "id": "d549ae93-6d19-4a05-8387-84ee4969bf1a",
   "metadata": {},
   "source": [
    "### Активность по дням недели"
   ]
  },
  {
   "cell_type": "code",
   "execution_count": null,
   "id": "5590dec3-5e4c-4d8a-b1ae-29b9407ffcb4",
   "metadata": {},
   "outputs": [],
   "source": [
    "draw_bar(\n",
    "    orders_payed['day_of_week'].value_counts().reset_index(name='cnt'), \n",
    "    'day_of_week', \n",
    "    'cnt',\n",
    "    'Количество оплаченных платежей по дням недели',\n",
    "    'День недели',\n",
    "    'Количество'\n",
    ")"
   ]
  },
  {
   "cell_type": "code",
   "execution_count": null,
   "id": "5d159113-bef6-4b26-af6f-6c0e9f7fcd25",
   "metadata": {},
   "outputs": [],
   "source": [
    "orders_by_dayweek = orders_payed.groupby('day_of_week')['total_price'].sum().reset_index().sort_values(by='total_price', ascending=False)\n",
    "\n"
   ]
  },
  {
   "cell_type": "code",
   "execution_count": null,
   "id": "cd89d006-3dc0-4979-bb8f-3b51df33d26c",
   "metadata": {},
   "outputs": [],
   "source": [
    "draw_bar(\n",
    "    orders_by_dayweek, \n",
    "    'day_of_week', \n",
    "    'total_price',\n",
    "    'Общая сумма всех оплаченных платежей по дням недели',\n",
    "    'День недели',\n",
    "    'Сумма'\n",
    ")"
   ]
  },
  {
   "cell_type": "markdown",
   "id": "ffac1cae-fa86-4454-8100-c7c5f94d5aba",
   "metadata": {},
   "source": [
    "### Активность по времени суток"
   ]
  },
  {
   "cell_type": "code",
   "execution_count": null,
   "id": "e7574cc3-5a8d-43db-9304-6e96d42f4f06",
   "metadata": {},
   "outputs": [],
   "source": [
    "draw_pie(\n",
    "    orders_payed['part_of_day'].map(dict_part_of_day).value_counts().reset_index(name='cnt'),\n",
    "    'part_of_day',\n",
    "    'cnt',\n",
    "    'Количество оплаченных платежей по времени суток'\n",
    ")"
   ]
  },
  {
   "cell_type": "code",
   "execution_count": null,
   "id": "0f247592-b967-4c9b-9110-7eed7614d3c5",
   "metadata": {},
   "outputs": [],
   "source": [
    "orders_by_partday = orders_payed.groupby('part_of_day')['total_price'].sum().reset_index()\n",
    "orders_by_partday.index = orders_by_partday.index.map(dict_part_of_day)\n",
    "\n",
    "draw_pie(\n",
    "    orders_by_partday,\n",
    "    'part_of_day',\n",
    "    'total_price',\n",
    "    'Общая сумма всех оплаченных платежей по времени суток'\n",
    ")"
   ]
  },
  {
   "cell_type": "markdown",
   "id": "bafc1f58-257c-44c4-a5b7-e568665f61b4",
   "metadata": {},
   "source": [
    "### Активность по месяцам"
   ]
  },
  {
   "cell_type": "code",
   "execution_count": null,
   "id": "763763d2-a45f-46eb-bfd3-9941752e5c41",
   "metadata": {},
   "outputs": [],
   "source": [
    "draw_bar_horizontal(\n",
    "    orders_payed['month'].value_counts().reset_index(name='cnt'), \n",
    "    'month', \n",
    "    'cnt',\n",
    "    'ТОП-10 месяцев по количеству оплаченных платежей',\n",
    "    'Количество платежей',\n",
    "    'Месяц',\n",
    "    is_top=True\n",
    ")"
   ]
  },
  {
   "cell_type": "code",
   "execution_count": null,
   "id": "fd95627f-b970-4360-94de-aabde4da1614",
   "metadata": {},
   "outputs": [],
   "source": [
    "draw_bar_horizontal(\n",
    "    orders_payed.groupby('month')['total_price'].sum().reset_index(name='cnt'), \n",
    "    'month', \n",
    "    'cnt',\n",
    "    'ТОП-10 месяцев по суммарным сборам',\n",
    "    'Рубли',\n",
    "    'Месяц'\n",
    ")"
   ]
  },
  {
   "cell_type": "code",
   "execution_count": null,
   "id": "e6280dac-d438-46ab-b121-240ede513ba7",
   "metadata": {},
   "outputs": [],
   "source": [
    "draw_plot(\n",
    "    channels['month'].value_counts().reset_index(name='cnt').sort_values(by='month').set_index('month'), \n",
    "    'Гистограмма распределения платежей', \n",
    "    'Дата', \n",
    "    'Количество'\n",
    ")"
   ]
  },
  {
   "cell_type": "code",
   "execution_count": null,
   "id": "ba8c4053-137f-42c8-b05e-a8e9e77bf22c",
   "metadata": {},
   "outputs": [],
   "source": [
    "draw_plot(\n",
    "    orders_payed['month'].value_counts().reset_index(name='cnt').sort_values(by='month').set_index('month'), \n",
    "    'Гистограмма распределения платежей', \n",
    "    'Дата', \n",
    "    'Количество'\n",
    ")"
   ]
  },
  {
   "cell_type": "markdown",
   "id": "1b78400d-8838-48f3-9767-1fc964c3b9eb",
   "metadata": {},
   "source": [
    "Выводы:\n",
    "\n",
    "- Самые активные дни недели по количеству пожертвований вторник, пятница. Менее активные суббота, воскресенье и понедельник.\n",
    "- Чаще всего пожертвования происходят в ночное время суток, реже всего утром.\n",
    "- Самые активные месяца за всю историю по количеству пожертвований – февраль 2024, декабрь 2023 и сентябрь 2023 года."
   ]
  },
  {
   "cell_type": "markdown",
   "id": "f5544d1f-c98c-4ce8-866a-dca35b0ceeed",
   "metadata": {},
   "source": [
    "## Маркетинговые метрики"
   ]
  },
  {
   "cell_type": "markdown",
   "id": "cab5ff5f-c1ec-40e6-a2fe-0ec07e3714d8",
   "metadata": {},
   "source": [
    "### Первое касание пользователя"
   ]
  },
  {
   "cell_type": "code",
   "execution_count": null,
   "id": "461774b1-b0f3-45a1-ad8f-1ad56ac34ad6",
   "metadata": {},
   "outputs": [],
   "source": [
    "draw_bar_horizontal(\n",
    "    channels.query('is_first')['user_action'].value_counts().reset_index(name='cnt'), \n",
    "    'user_action', \n",
    "    'cnt',\n",
    "    'Статистика по виду действия во время первого входа пользователя',\n",
    "    'Количество',\n",
    "    'Название действия',\n",
    "    is_top=True\n",
    ")"
   ]
  },
  {
   "cell_type": "code",
   "execution_count": null,
   "id": "78fa04b3-c518-487e-9dd4-6f23c48af712",
   "metadata": {},
   "outputs": [],
   "source": [
    "draw_bar_horizontal(\n",
    "    channels.query('is_first and utm_campaign != \"\"')['utm_campaign'].value_counts().reset_index(name='cnt'), \n",
    "    'utm_campaign', \n",
    "    'cnt',\n",
    "    'Статистика по кампаниям во время первого входа пользователя',\n",
    "    'Количество',\n",
    "    'Кампания',\n",
    "    is_top=True\n",
    ")"
   ]
  },
  {
   "cell_type": "code",
   "execution_count": null,
   "id": "e55b0c27-b27d-4a8a-aab1-1f3c5c438f9f",
   "metadata": {},
   "outputs": [],
   "source": [
    "draw_bar_horizontal(\n",
    "    channels.query('is_first and utm_campaign != \"\"')['utm_source'].value_counts().reset_index(name='cnt'), \n",
    "    'utm_source', \n",
    "    'cnt',\n",
    "    'Статистика по ресурсу во время первого входа пользователя',\n",
    "    'Количество',\n",
    "    'Ресурс',\n",
    "    is_top=True\n",
    ")\n"
   ]
  },
  {
   "cell_type": "markdown",
   "id": "3617698b-75f3-4346-9d9b-ae2ba5bfa3a9",
   "metadata": {},
   "source": [
    "Первое касание пользователя чаще всего сопровождалось действием - Оплата заказа.\n",
    "\n",
    "Первая активность клиента редко попадала в кампании, но если такое и случалось, то самым популярым ресурсом для первого входа можно назвать vk, самой популярной компанией при входе - demid-lebedev."
   ]
  },
  {
   "cell_type": "markdown",
   "id": "55a7ccc3-405f-4c5f-8a1c-7a0c246dcdf2",
   "metadata": {},
   "source": [
    "### Назначение платежа"
   ]
  },
  {
   "cell_type": "code",
   "execution_count": null,
   "id": "46c45c07-3f69-4bdd-8126-5fa2705525c2",
   "metadata": {},
   "outputs": [],
   "source": [
    "product_name = (\n",
    "    orders_payed\n",
    "    .groupby('product_name')\n",
    "    .agg(\n",
    "        {\n",
    "            'create_date': lambda x: (x.max() - x.min()).days + 1, \n",
    "            'user_id' : 'nunique',\n",
    "            'order_id' : 'count',\n",
    "            'total_price' : 'sum',\n",
    "        }\n",
    "    )\n",
    "    .rename(\n",
    "        columns={\n",
    "            'create_date' : 'days',\n",
    "            'user_id' : 'user_cnt',\n",
    "            'order_id' : 'order_cnt',\n",
    "        }\n",
    "    )\n",
    "    .reset_index()\n",
    ")\n",
    "\n",
    "product_name_analysis = {\n",
    "    'days' : 'ТОП-10 назначений по времени жизни',\n",
    "    'user_cnt' : 'ТОП-10 назначений по количеству уникальных пользователей',\n",
    "    'order_cnt' : 'ТОП-10 назначений по количеству оплаченных платежей',\n",
    "    'total_price' : 'ТОП-10 назначений по суммарным пожертвованиям',\n",
    "}\n",
    "\n",
    "for analysis in product_name_analysis:\n",
    "    draw_bar_horizontal(\n",
    "        product_name, \n",
    "        'product_name', \n",
    "        analysis,\n",
    "        product_name_analysis[analysis],\n",
    "        'Количество',\n",
    "        'Назначение платежа',\n",
    "        is_top=True\n",
    "    )    "
   ]
  },
  {
   "cell_type": "markdown",
   "id": "d1958856-029d-4d1f-8789-7a0d60f69400",
   "metadata": {},
   "source": [
    "### Кампании"
   ]
  },
  {
   "cell_type": "code",
   "execution_count": null,
   "id": "7f020f77-5f2f-4b63-b59c-db58c7cb0539",
   "metadata": {},
   "outputs": [],
   "source": [
    "round(channels.query('utm_campaign != \"\"').shape[0]/channels.shape[0] * 100, 2)"
   ]
  },
  {
   "cell_type": "code",
   "execution_count": null,
   "id": "36b86a6c-ece4-41a7-a349-d6e53601ab84",
   "metadata": {},
   "outputs": [],
   "source": [
    "utm_campaign = (\n",
    "    channels\n",
    "    .query('utm_campaign != \"\"')\n",
    "    .groupby('utm_campaign')\n",
    "    .agg(\n",
    "        {\n",
    "            'action_date': lambda x: (x.max() - x.min()).days, \n",
    "            'user_id' : 'nunique',\n",
    "            'user_action' : 'count'\n",
    "        }\n",
    "    )\n",
    "    .rename(\n",
    "        columns={\n",
    "            'action_date' : 'days',\n",
    "            'user_id' : 'user_cnt',\n",
    "            'user_action' : 'action_cnt',\n",
    "        }\n",
    "    )\n",
    "    .reset_index()\n",
    ")\n",
    "\n",
    "utm_campaign_analysis = {\n",
    "    'days' : 'ТОП-10 кампаний по времени жизни',\n",
    "    'user_cnt' : 'ТОП-10 кампаний по количеству уникальных пользователей',\n",
    "    'action_cnt' : 'ТОП-10 кампаний по количеству активностей',\n",
    "}\n",
    "\n",
    "for analysis in utm_campaign_analysis:\n",
    "    draw_bar_horizontal(\n",
    "        utm_campaign, \n",
    "        'utm_campaign', \n",
    "        analysis,\n",
    "        utm_campaign_analysis[analysis],\n",
    "        'Количество',\n",
    "        'Кампания',\n",
    "        is_top=True\n",
    "    )    "
   ]
  },
  {
   "cell_type": "markdown",
   "id": "d5c2627e-8403-4b31-8095-f21b063dfecb",
   "metadata": {},
   "source": [
    "### Кампании по каналам"
   ]
  },
  {
   "cell_type": "code",
   "execution_count": null,
   "id": "d45e2dad-ab3b-48f6-bc53-7d00b9a64bb1",
   "metadata": {},
   "outputs": [],
   "source": [
    "channel_stat = channels['channel_id'].value_counts().reset_index(name='cnt')\n",
    "channel_stat['channel_name'] = channel_stat['channel_id'].map(dic_channels)\n"
   ]
  },
  {
   "cell_type": "code",
   "execution_count": null,
   "id": "3d718e19-8190-4b3b-9c0e-8749882a046e",
   "metadata": {},
   "outputs": [],
   "source": [
    "draw_bar_horizontal(\n",
    "    channel_stat, \n",
    "    'channel_name', \n",
    "    'cnt',\n",
    "    'Статистика событий по каналам',\n",
    "    'Количество событий',\n",
    "    'Канал'\n",
    ")\n"
   ]
  },
  {
   "cell_type": "code",
   "execution_count": null,
   "id": "f2060de6-e2bd-44a6-96ba-6b5fe6281f7f",
   "metadata": {},
   "outputs": [],
   "source": [
    "channels_not_empty = (\n",
    "    channels.groupby('channel_id')['utm_campaign']\n",
    "    .apply(lambda x: all(x == ''))\n",
    "    .reset_index()\n",
    "    .rename(columns={'utm_campaign': 'all_empty'})\n",
    ")\n",
    "\n",
    "channels_not_empty = channels_not_empty[channels_not_empty['all_empty'] == False]\n",
    "channels_not_empty['channel_name'] = channels_not_empty['channel_id'].map(dic_channels)\n",
    "\n",
    "print('Список каналов привлечения, использующих кампании:')\n",
    "display(channels_not_empty)"
   ]
  },
  {
   "cell_type": "markdown",
   "id": "b0f6488d-0181-4c11-984c-25bfe710025e",
   "metadata": {},
   "source": [
    "Не на всех каналах бывают кампании, далее рассмотрим только такие."
   ]
  },
  {
   "cell_type": "code",
   "execution_count": null,
   "id": "a467cdf4-d7ec-4824-bd88-17ed98dd7540",
   "metadata": {},
   "outputs": [],
   "source": [
    "channels_not_empty_ids = channels_not_empty['channel_id'].unique()\n",
    "\n",
    "for channel in dic_channels:\n",
    "\n",
    "    if channel in channels_not_empty_ids:\n",
    "        draw_bar_horizontal(\n",
    "            (\n",
    "                channels\n",
    "                .query('channel_id == @channel')['utm_campaign']\n",
    "                .value_counts()\n",
    "                .reset_index(name='cnt')\n",
    "            ), \n",
    "            'utm_campaign', \n",
    "            'cnt',\n",
    "            'Канал привлечения - `{}`'.format(dic_channels[channel]),\n",
    "            'Количество событий',\n",
    "            'Кампания',\n",
    "            is_top=True\n",
    "    )\n",
    "    "
   ]
  },
  {
   "cell_type": "markdown",
   "id": "4d453aba-ea7e-4f6e-b400-1d1c4611eb8d",
   "metadata": {},
   "source": [
    "Составим список всех кампаний, которые были в фонде, подсчитаем для каждой дату начала и конца по активностям в таблице channels, количество уникальных пользователей, участвовавших в кампании."
   ]
  },
  {
   "cell_type": "code",
   "execution_count": null,
   "id": "84d2841f-7892-4b40-88fe-98f2af847cf8",
   "metadata": {},
   "outputs": [],
   "source": [
    "campaign_dates = channels.query('utm_campaign != \"\"').groupby('utm_campaign').agg(min_date=('action_date', 'min'), max_date=('action_date', 'max'), user_cnt=('user_id', 'nunique')).reset_index().sort_values(by='min_date')\n",
    "campaign_dates['min_month'] = pd.to_datetime(campaign_dates['min_date'].dt.strftime('%Y-%m-01'))\n",
    "campaign_dates['min_year'] = pd.to_datetime(campaign_dates['min_date']).dt.year\n",
    "\n",
    "campaign_dates"
   ]
  },
  {
   "cell_type": "markdown",
   "id": "a65866cc-daf7-473d-90c7-ed939c40b4e8",
   "metadata": {},
   "source": [
    "Найдем кампании за 2024 год, ранее мы наблюдали всплеск активности в это время. Отсортируем кампании по количеству уникальных пользователей."
   ]
  },
  {
   "cell_type": "code",
   "execution_count": null,
   "id": "27e05956-af85-4eb5-ac81-0f418182a1ca",
   "metadata": {},
   "outputs": [],
   "source": [
    "campaign_2024 = campaign_dates[(campaign_dates['min_year'] == 2024)]"
   ]
  },
  {
   "cell_type": "code",
   "execution_count": null,
   "id": "c5f3ad2e-ae51-4842-8e3a-5d875b5dcf84",
   "metadata": {},
   "outputs": [],
   "source": [
    "campaign_2024.sort_values(by='user_cnt', ascending=False).head(10)"
   ]
  },
  {
   "cell_type": "markdown",
   "id": "bcb5e536-33ff-4946-9cb8-1ca1d87e6ee8",
   "metadata": {},
   "source": [
    "Найдем из таблицы пожертвований назначение платежей, они должны быть созвучны компаниям в таблице channels, найдем соотвествия, а так же каналы, которые активно привлекают пользователей совершать платеж в 2024 году."
   ]
  },
  {
   "cell_type": "code",
   "execution_count": null,
   "id": "503f60af-8d7a-422a-8b60-b0383f5f5bc0",
   "metadata": {},
   "outputs": [],
   "source": [
    "orders_2024 = orders_payed[(orders_payed['year'] == 2024)].groupby('campaing')['total_price'].sum().reset_index().sort_values(by='total_price', ascending=False).head(10)\n"
   ]
  },
  {
   "cell_type": "code",
   "execution_count": null,
   "id": "027b5473-1d9a-4b5a-8011-5ebbbff395fe",
   "metadata": {},
   "outputs": [],
   "source": [
    "\n",
    "# Перебор каждой строки\n",
    "for index, row in orders_2024.iterrows():\n",
    "    campaing_name = row['campaing']\n",
    "    if is_translit_name(campaing_name):\n",
    "        tmp  = channels.query('utm_campaign == @campaing_name')['channel_id'].value_counts().reset_index()\n",
    "        tmp['channel_name'] = tmp['channel_id'].map(dic_channels)\n",
    "        if tmp.shape[0] > 0:\n",
    "            print(f\"Кампания: {campaing_name}, Общая сумма: {row['total_price']}\")\n",
    "            display(tmp[['channel_name', 'count']])"
   ]
  },
  {
   "cell_type": "markdown",
   "id": "20d95378-6a81-4571-abf2-f282de862dff",
   "metadata": {},
   "source": [
    "Чаще всего встречается канал \"utm_term Не указан\"."
   ]
  },
  {
   "cell_type": "markdown",
   "id": "6ba90e06-2931-4f4d-9519-38320a8a0044",
   "metadata": {},
   "source": [
    "### Эффективность действий по каналам"
   ]
  },
  {
   "cell_type": "markdown",
   "id": "7e338cd3-23c0-498e-bdd2-e1e9a5a9e7b4",
   "metadata": {},
   "source": [
    "Поскольку и оплаты и записи из таблицы channels являются своего рода активностями, соберем их в одну единую таблицу. Отсоритурем все активности по каждому пользователю, и попробуем найти, после каких собятий было событие внесения пожертвования. Найдем такое события и проанализируем их."
   ]
  },
  {
   "cell_type": "code",
   "execution_count": null,
   "id": "ba5b23cb-97ac-4861-acb3-19adebb25828",
   "metadata": {},
   "outputs": [],
   "source": [
    "order_event = orders_payed[['user_id', 'create_date', 'total_price']].rename(columns={'create_date': 'event_dt'})\n",
    "order_event['channel_id'] = 0\n"
   ]
  },
  {
   "cell_type": "code",
   "execution_count": null,
   "id": "0b014a89-e9b7-4a08-9824-4bf4d29d78b3",
   "metadata": {},
   "outputs": [],
   "source": [
    "channel_event = channels[['user_id', 'event_dt', 'channel_id']]\n",
    "channel_event['total_price'] = 0\n"
   ]
  },
  {
   "cell_type": "code",
   "execution_count": null,
   "id": "f1e4b4e8-64ba-47f1-8168-3f1450471af0",
   "metadata": {},
   "outputs": [],
   "source": [
    "events = pd.concat([order_event, channel_event]).sort_values(by=['user_id', 'event_dt']).reset_index(drop=True)\n",
    "events['next_channel_id'] = events.groupby('user_id')['channel_id'].shift(-1)\n",
    "events['next_event_dt'] = events.groupby('user_id')['event_dt'].shift(-1)\n",
    "events['next_total_price'] = events.groupby('user_id')['total_price'].shift(-1)\n",
    "events"
   ]
  },
  {
   "cell_type": "code",
   "execution_count": null,
   "id": "7fd838ea-9aea-4e3d-8a1c-160087cdf60d",
   "metadata": {},
   "outputs": [],
   "source": [
    "channel_percentages = []\n",
    "\n",
    "for channel in dic_channels:\n",
    "    total_events = events[events['channel_id'] == channel].shape[0]\n",
    "    if total_events > 0:\n",
    "        percent = (events[(events['channel_id'] == channel) & (events['next_channel_id'] == 0)].shape[0] / total_events) * 100\n",
    "        channel_percentages.append((dic_channels[channel], percent))\n",
    "\n",
    "channel_percentages.sort(key=lambda x: x[1], reverse=True)\n"
   ]
  },
  {
   "cell_type": "markdown",
   "id": "4ae3a22e-7fed-43e4-b4c6-fc21cb6dab7e",
   "metadata": {},
   "source": [
    "Самым эффективным каналом привлечения является канал `ida`, почти после каждой четвертой активности есть запись по оплате пожертвования. Выше в лидерах фигурировало назначение платежа egor_czukanov. Одним из каналов привлечения как был был канал `Ida`. Видимо реклама у известных блогеров очень эффективна в привлечении новых пользователей. Но поскольку данных по затратам у нас нет, сложно сказать про окупаемость этих платежей.\n",
    "\n",
    "Канал привлечения email очень неэффективен, только 0.66% событий заканчиваются платежем.\n",
    "\n",
    "Канал `utm_temn Не указан` занимает положение в середине рейтинга, больше 5% событий завершаются платежем. Выше мы анализировали всплеск активности в начале 2024 года, и там чаще всего встречался этот канал привлечения."
   ]
  },
  {
   "cell_type": "code",
   "execution_count": null,
   "id": "ec1b3453-5287-43cb-ab99-ab07c020f78d",
   "metadata": {},
   "outputs": [],
   "source": [
    "draw_bar_horizontal(\n",
    "    pd.DataFrame(channel_percentages).rename(columns={0: 'channel', 1: '%'}), \n",
    "    'channel', \n",
    "    '%',\n",
    "    'Процент событий, после которых шло пожертвование',\n",
    "    'Процент от всех событий по каналу',\n",
    "    'Канал'\n",
    ")"
   ]
  },
  {
   "cell_type": "markdown",
   "id": "bf0fdf02-b6a8-4ddb-ba26-3139434878fb",
   "metadata": {},
   "source": [
    "## Когортный анализ"
   ]
  },
  {
   "cell_type": "code",
   "execution_count": null,
   "id": "bb68e23c-f6ff-4dd1-811a-4da18343c2a2",
   "metadata": {},
   "outputs": [],
   "source": [
    "df_cohort = orders_payed.groupby(['cohort', 'order_month']).agg(cnt=('user_id', 'nunique'), sum_price=('total_price', 'sum')).reset_index(drop=False)\n",
    "df_cohort['lifetime'] = (df_cohort.order_month - df_cohort.cohort).apply(attrgetter('n'))\n"
   ]
  },
  {
   "cell_type": "code",
   "execution_count": null,
   "id": "7d20e993-929b-4d2b-ada7-7b03a7463653",
   "metadata": {},
   "outputs": [],
   "source": [
    "last_suitable_acquisition_date = observation_date - relativedelta(months=horizon_months)\n",
    "cohort_end = pd.Timestamp(last_suitable_acquisition_date).to_period('M')\n",
    "\n",
    "first_suitable_acquisition_date = observation_date - relativedelta(months=horizon_months * 2.5)\n",
    "cohort_start = pd.Timestamp(first_suitable_acquisition_date).to_period('M')\n",
    "\n",
    "df_cohort = df_cohort[(df_cohort['cohort'] >= cohort_start) & (df_cohort['cohort'] <= cohort_end)]\n"
   ]
  },
  {
   "cell_type": "code",
   "execution_count": null,
   "id": "f624207d-e2a1-493d-8362-6459d71663b0",
   "metadata": {},
   "outputs": [],
   "source": [
    "# Рассчитываем размер когорты\n",
    "cohort_sizes = df_cohort[df_cohort['lifetime'] == 0][['cohort', 'cnt']].set_index('cohort').rename(columns={'cnt': 'cohort_size'})\n",
    "\n",
    "# Добавляем размер когорты к основным данным\n",
    "df_cohort = df_cohort.merge(cohort_sizes, on='cohort')\n",
    "\n",
    "df_cohort.head()"
   ]
  },
  {
   "cell_type": "markdown",
   "id": "359c4f23-af2b-49c2-a38e-141ee74ca06a",
   "metadata": {},
   "source": [
    "### Retention Rate - удержание клиентов"
   ]
  },
  {
   "cell_type": "code",
   "execution_count": null,
   "id": "e0ca8530-67b4-477f-9e71-41496ae74155",
   "metadata": {},
   "outputs": [],
   "source": [
    "cohort_pivot = df_cohort.pivot_table(index='cohort', columns='lifetime', values='cnt')"
   ]
  },
  {
   "cell_type": "code",
   "execution_count": null,
   "id": "0feea94b-3d50-40a7-a19c-d9104106345a",
   "metadata": {},
   "outputs": [],
   "source": [
    "retention_matrix = cohort_pivot.divide(cohort_pivot.iloc[:, 0], axis=0)\n"
   ]
  },
  {
   "cell_type": "code",
   "execution_count": null,
   "id": "6e409630-42bd-40f6-866c-cb3448ae53e6",
   "metadata": {},
   "outputs": [],
   "source": [
    "draw_heatmap(\n",
    "    retention_matrix.iloc[:, 1:14],\n",
    "    'Тепловая карта удержания', \n",
    "    'Лайфтайм', \n",
    "    'Месяц',\n",
    ")\n"
   ]
  },
  {
   "cell_type": "code",
   "execution_count": null,
   "id": "3ede27d7-8c44-4973-8c47-bf03d641999a",
   "metadata": {},
   "outputs": [],
   "source": [
    "draw_T_plot(\n",
    "    retention_matrix.iloc[:, 1:14],\n",
    "    'Кривые удержания по дням привлечения',\n",
    "    'Лайфтайм',\n",
    "    'Коэффициент удержания'\n",
    ")"
   ]
  },
  {
   "cell_type": "markdown",
   "id": "f8e36b32-9b69-4b8d-9852-808c6aa45290",
   "metadata": {},
   "source": [
    "### LTV - пожизненная ценность клиента"
   ]
  },
  {
   "cell_type": "code",
   "execution_count": null,
   "id": "23562c56-5cf8-49e4-896c-50165ca607b4",
   "metadata": {},
   "outputs": [],
   "source": [
    "# Рассчитываем накопительную сумму продаж\n",
    "df_cohort['cumulative_sum_price'] = df_cohort.groupby('cohort')['sum_price'].cumsum()\n",
    "\n",
    "# Рассчитываем LTV, деля накопительную сумму на размер когорты\n",
    "df_cohort['ltv'] = df_cohort['cumulative_sum_price'] / df_cohort['cohort_size']\n",
    "\n",
    "# Создаем сводную таблицу для LTV\n",
    "ltv_matrix = df_cohort.pivot_table(index='cohort', columns='lifetime', values='ltv', aggfunc='sum').fillna(0)\n",
    "\n",
    "display(ltv_matrix)"
   ]
  },
  {
   "cell_type": "code",
   "execution_count": null,
   "id": "fc48777b-b5fc-45ab-98fc-3941b3e90ffa",
   "metadata": {},
   "outputs": [],
   "source": [
    "draw_T_plot(\n",
    "    ltv_matrix.iloc[:, 0:14],\n",
    "    'Кривые LTV по дням привлечения',\n",
    "    'Лайфтайм',\n",
    "    'LTV'\n",
    ")"
   ]
  },
  {
   "cell_type": "markdown",
   "id": "c234f975-ac30-4fef-8eb8-741c731de594",
   "metadata": {},
   "source": [
    "### Conversion - переход от разового платежа в рекуренты"
   ]
  },
  {
   "cell_type": "code",
   "execution_count": null,
   "id": "1e246f10-a5cd-47ef-bca7-aa191f82b585",
   "metadata": {},
   "outputs": [],
   "source": [
    "print('Зарегистрировано пользователей: {} ({} - заявлены как рекуренты).'.format(user_cnt, rec_user_cnt))"
   ]
  },
  {
   "cell_type": "code",
   "execution_count": null,
   "id": "45dd4465-3c12-469b-91b7-042ce08d5ec1",
   "metadata": {},
   "outputs": [],
   "source": [
    "print('Хотя бы раз совершивших пожертвование пользователей: {} ({} - делали хоть раз рекурентные платежи).'.format(user_p_cnt, rec_user_p_cnt))"
   ]
  },
  {
   "cell_type": "code",
   "execution_count": null,
   "id": "035c044a-0b94-4cf3-9f84-770e43de6235",
   "metadata": {},
   "outputs": [],
   "source": [
    "conversion_raw = (\n",
    "    pd.merge(\n",
    "        orders_payed.query('is_first_payed')[['user_id', 'create_date']],\n",
    "        orders_payed.query('is_first_rec_payed')[['user_id', 'create_date']],\n",
    "        on='user_id',\n",
    "        how='left'\n",
    "    ).rename(\n",
    "        columns={\n",
    "            'create_date_x' : 'is_one',\n",
    "            'create_date_y' : 'is_rec'\n",
    "        }\n",
    "    )\n",
    ")\n",
    "\n",
    "conversion_raw['lifetime'] = conversion_raw.apply(\n",
    "    lambda row: (row['is_rec'].to_period('M') - row['is_one'].to_period('M')).n if pd.notna(row['is_rec']) else None,\n",
    "    axis=1\n",
    ")\n",
    "conversion_raw.head()"
   ]
  },
  {
   "cell_type": "code",
   "execution_count": null,
   "id": "c0d493e6-d680-47a2-a157-ef7973456efe",
   "metadata": {},
   "outputs": [],
   "source": [
    "draw_box(\n",
    "    conversion_raw,\n",
    "    'lifetime',\n",
    "    'Диаграмма размаха периода перехода от первого разового платежа к первому регулярному, мес.',\n",
    ")"
   ]
  },
  {
   "cell_type": "code",
   "execution_count": null,
   "id": "adda9408-7cca-488e-8656-acadb0b52bbb",
   "metadata": {},
   "outputs": [],
   "source": [
    "conversion = conversion_raw.pivot_table(index=None, columns='lifetime', values='user_id', aggfunc='count', fill_value=0)\n",
    "\n",
    "cumsum = conversion.cumsum(axis=1)\n",
    "\n",
    "conversion.loc['cumsum'] = cumsum.iloc[-1]\n",
    "conversion.loc['normal'] = conversion.loc['cumsum'] / user_p_cnt\n",
    "conversion"
   ]
  },
  {
   "cell_type": "code",
   "execution_count": null,
   "id": "ec9946cc-d615-4610-8b2e-4f0d3de6df2b",
   "metadata": {},
   "outputs": [],
   "source": [
    "draw_heatmap(\n",
    "    conversion.iloc[:, 1:14].loc[['normal']], \n",
    "    'Тепловая карта конверсии платящих пользователей в рекуренты', \n",
    "    'Лайфтайм', \n",
    "    'Дата',\n",
    "    annot=True, \n",
    "    size_x=12, \n",
    "    size_y=1\n",
    ")"
   ]
  },
  {
   "cell_type": "markdown",
   "id": "cdf9ae76-bdca-4d9b-b2c6-794b8f1e2a01",
   "metadata": {},
   "source": [
    "- Наибольшее удержание по оплатам в последующие периоды наблюдается для пользователей, совершивших первый платеж в июле 2021 года. Эти клиенты показывали удержание до 27% на четвертый месяц «жизни».\n",
    "- Наименьшее удержание у пользователей в феврале, мае и августе 2022 года.\n",
    "- Конверсия платящих пользователей в рекуренты очень маленькая, за год только 3.6% пользователей перешли к регулярному платежу.\n",
    "- В среднем от первого платежа до первого регулярного платежа проходит от 0 до 15 месяцев.\n",
    "- Самый высокий коэффициент LTV у пользователей, совершивших первый платеж в июле и апреле 2021 года.\n",
    "- Самый низкий LTV у пользователей, впервые совершивших платеж в феврале 2022 года."
   ]
  },
  {
   "cell_type": "markdown",
   "id": "c3aec0dc-4517-4a3a-b09a-b3ec2112db3b",
   "metadata": {},
   "source": [
    "## Проверка гипотез"
   ]
  },
  {
   "cell_type": "markdown",
   "id": "3b53bc34-a2e4-4ed8-ae1c-bbe4e9a4f6c0",
   "metadata": {},
   "source": [
    "### Гипотеза: платящие пользователи из \"исторического импорта\" тратят больше денег на пожертвования"
   ]
  },
  {
   "cell_type": "markdown",
   "id": "d7734a0a-d2a1-40b8-b41d-cdf6121940fe",
   "metadata": {},
   "source": [
    "**Нулевая гипотеза:** средние значения пожертвований пользователей из двух групп равны.\n",
    "\n",
    "**Альтернативная гипотеза:** среднее значение пожертвований пользователей из \"исторического импорта\" больше, чем среднее значение пожертвований \"новых\" пользователей."
   ]
  },
  {
   "cell_type": "code",
   "execution_count": null,
   "id": "1bf762ee-1da8-470f-b78c-671690fe7090",
   "metadata": {},
   "outputs": [],
   "source": [
    "check_ttest_ind(\n",
    "    orders_payed.query('user_id in @history_import_ids '), \n",
    "    orders_payed.query('user_id not in @history_import_ids '), \n",
    "    'total_price', \n",
    "    'greater'\n",
    ")"
   ]
  },
  {
   "cell_type": "markdown",
   "id": "ddd55eab-fbb5-44b9-a847-3f3d61fec934",
   "metadata": {},
   "source": [
    "**Вывод:** Полученное значение p-value значительно больше заданного уровня значимости, поэтому нет оснований отвергать нулевую гипотезу. Статистически значимых различий между средними значениями пожертвований пользователей в двух группах нет.\n"
   ]
  },
  {
   "cell_type": "code",
   "execution_count": null,
   "id": "ff4c7620-ddaa-4fe4-8ed0-bcebe87e19c2",
   "metadata": {},
   "outputs": [],
   "source": [
    "print(\n",
    "    'Средний чек пожертвований для \"исторического импорта\": {:.2f}'\n",
    "    .format(orders_payed.query('user_id in @history_import_ids ')['total_price'].mean())\n",
    ")"
   ]
  },
  {
   "cell_type": "code",
   "execution_count": null,
   "id": "fa46b9a7-627a-4a80-92e1-9d5cbe47a0d3",
   "metadata": {},
   "outputs": [],
   "source": [
    "print(\n",
    "    'Средний чек пожертвований для \"новых\" пользователей: {:.2f}'\n",
    "    .format(orders_payed.query('user_id not in @history_import_ids ')['total_price'].mean())\n",
    ")\n"
   ]
  },
  {
   "cell_type": "markdown",
   "id": "3c3ac2b3-e22f-48ab-ab8c-0dc641e56be5",
   "metadata": {},
   "source": [
    "### Гипотеза: регулярные пожертвования меньше разовых"
   ]
  },
  {
   "cell_type": "markdown",
   "id": "6c9c7989-4f6d-4f98-8ffd-80ea7a5211a3",
   "metadata": {},
   "source": [
    "**Нулевая гипотеза:** средние значения пожертвований из двух групп равны.\n",
    "\n",
    "**Альтернативная гипотеза:** среднее значение регулярных пожертвований меньше разовых пожертвований."
   ]
  },
  {
   "cell_type": "code",
   "execution_count": null,
   "id": "aa5530ba-2f41-4922-b3b3-1e25f4cd5d73",
   "metadata": {},
   "outputs": [],
   "source": [
    "check_ttest_ind(\n",
    "    orders_payed.query('is_recurrent == True'), \n",
    "    orders_payed.query('is_recurrent == False'), \n",
    "    'total_price', \n",
    "    'less'\n",
    ")"
   ]
  },
  {
   "cell_type": "markdown",
   "id": "983e767e-ced6-4fe1-a32a-cb432ca48161",
   "metadata": {},
   "source": [
    "**Вывод:** Полученное значение p-value значительно меньше заданного уровня значимости, поэтому основания отвергать нулевую гипотезу. Статистически значимые различия между средними значениями пожертвований - есть, регулярные платежи меньше разовых."
   ]
  },
  {
   "cell_type": "code",
   "execution_count": null,
   "id": "90121da8-8c03-408e-a99d-e510832372f2",
   "metadata": {},
   "outputs": [],
   "source": [
    "print(\n",
    "    'Средний чек регулярного платежа: {:.2f}'\n",
    "    .format(orders_payed.query('is_recurrent == True')['total_price'].mean())\n",
    ")"
   ]
  },
  {
   "cell_type": "code",
   "execution_count": null,
   "id": "ae068fa2-854c-466b-8a97-37434ca00acb",
   "metadata": {},
   "outputs": [],
   "source": [
    "print(\n",
    "    'Средний чек разового платежа: {:.2f}'\n",
    "    .format(orders_payed.query('is_recurrent == False')['total_price'].mean())\n",
    ")"
   ]
  },
  {
   "cell_type": "markdown",
   "id": "658df46b-c389-4163-a300-82c9c029e856",
   "metadata": {},
   "source": [
    "## Выводы"
   ]
  },
  {
   "cell_type": "markdown",
   "id": "6059918d-d587-42a7-a445-e55415945b70",
   "metadata": {},
   "source": [
    "**Описание:**\n",
    "\n",
    "Благотворительный фонд \"АиФ Доброе сердце\" хочет лучше узнать своих благотворителей, чтобы максимально эффективно выстроить свою работу с ними. \n",
    "У фонда есть «старожилы» - доноры, которые достаточно давно с фондом и одной из задач будет изучение их поведения: активны ли они, делают ли пожертвования и как реагируют на активность фонда?  \n",
    "\n",
    "**Цели исследования:**\n",
    "\n",
    "- проанализировать имеющиеся данные; \n",
    "- проанализировать поведение доноров: в целом, исторических пользователей и новых пользователей отдельно; \n",
    "- составить портрет типичного пользователя: регион, поведение, др. параметры; \n",
    "- рассчитать метрики: пользовательские, маркетинговые, коммерческие;\n",
    "- сегментировать пользователей: RFM-анализ, описание сегментов;\n",
    "- изучить каналы привлечения пользователей и их эффективность;\n",
    "- изучить эффективность рассылок.\n",
    "\n",
    "**Задачи:**\n",
    "\n",
    "- провести исследовательский анализ данных;\n",
    "- составить RFM - анализ пользователей;\n",
    "- посчитать метрики пользователей;\n",
    "- формулирование выводов по полученным результатам, подготовка презентации.\n",
    "\n",
    "**Предобработка данных:** \n",
    "\n",
    "Данные предоставлены в хорошем качестве.\n",
    "\n",
    "Для удобства работы:\n",
    "- переменованы столбцы;\n",
    "- подкорректирован тип данных, согласно заявленным значениям;\n",
    "- добавлены новые столбцы с датами;\n",
    "- обработаны пропуски, для корректной работы pandas;\n",
    "- удалены лишние столбцы;\n",
    "- удалены дубликаты;\n",
    "- переформированы индексы.\n",
    "\n",
    "**Пользовательские метрики:**\n",
    "\n",
    "Уникальных пользователей: 23820, из которых 7343 – исторического импорта и 16477 – новых. Рекуренты составляют 2.7% от общего количества, волонтеры – менее 1%. Пол пользователей распределяется следующим образом: около 60% женщины, 20-30% мужчины (в зависимости от рекурентности), и у 10-20% пол не определен. Меньше чем у 10% пользователей подтверждена электронная почта. Тайм-зона у большинства пользователей не определена, либо указана как Europe/Moscow. Регион проживания также в большинстве случаев не определен, затем идет Vienna (возможно, из-за использования VPN) и Москва. Почти 99% пользователей подписаны через email. 75% пользователей исторического импорта проявляют активность, но только 8.6% из них являются платящими клиентами, а рекуренты среди них составляют 3%. Волонтеров среди исторического импорта нет. \n",
    "\n",
    "Первым касанием с пользователем чаще всего является первая оплата (или ее попытка), при которой фонд получает контактные данные пользователя для последующих рассылок. Для 10% пользователей есть активности без оплат, из которых треть – исторический импорт. Первая активность новых пользователей чаще всего происходит через сайт или email. Всплески первых активностей новых пользователей наблюдаются в августе 2022 года, феврале 2024 и сентябре 2023, совпадая с пиками первых оплат. \n",
    "\n",
    "Анализ графиков DAU (Daily Active Users) и MAU (Monthly Active Users) показывает тенденцию к росту, указывая на стабильное увеличение пользовательской базы и вовлеченности. Локальные падения активности наблюдаются в феврале 2022 и 2023 годов, вероятно, из-за сезонных факторов или внешних событий. Значительный рост в конце 2021 и середине 2022 года, вероятно, вызван успешными маркетинговыми кампаниями или улучшениями в сервисе. Максимальный пик активности отмечен в начале 2024 года, что может свидетельствовать о крупных обновлениях или эффективных стратегиях привлечения пользователей.\n",
    "\n",
    "**Коммерческие метрики:**\n",
    "Среднее пожертвование пользователя варьируется от 110 до 500 рублей, при среднем количестве оплат на одного пользователя от 1 до 3. Среднее количество платежей в день колеблется от 19 до 53. Самый высокий средний чек наблюдался в апреле 2024 года, а также в феврале и марте 2023 года, тогда как самый низкий средний чек был зафиксирован в феврале 2022, январе 2024 и ноябре 2021 года. Наибольший средний чек по назначению платежа был у Александра Слепухина, Дарьи Тортоевой и Никиты Яковлева. \n",
    "\n",
    "Главным источником входа пользователей чаще всего является сайт, где клиент делает пожертвование и оставляет свои контактные данные, что можно считать первым касанием с пользователем. Пользователи из \"исторического импорта\" совершили свое касание после импорта данных до мая 2022 года, после чего не было новых вхождений исторического импорта. Новые пользователи активно подключаются к фонду. \n",
    "\n",
    "Самыми активными днями недели по количеству пожертвований являются вторник и пятница, наименее активными – суббота, воскресенье и понедельник. Чаще всего пожертвования происходят в ночное время суток, реже всего утром. Самыми активными месяцами за всю историю по количеству пожертвований стали февраль 2024, декабрь 2023 и сентябрь 2023 года.\n",
    "\n",
    "\n",
    "**Маркетинговые метрики:**\n",
    "Первое касание пользователя чаще всего сопровождалось действием оплаты заказа. Первая активность клиента редко попадала в кампании, но если такое случалось, то самым популярным ресурсом для первого входа был VK, а самой популярной кампанией – Demid Lebedev. \n",
    "\n",
    "Каналы делятся на два вида: те, через которые проводятся кампании (utm_term Не указан, lina, vse, ida, google.com, first-stage, roditeli, report, razovie, Yandex.ru, congratulations), и те, через которые кампании не проводят. Одна и та же кампания может работать на разных каналах привлечения. \n",
    "\n",
    "В 2024 году кампании с наибольшей активностью были с канала utm_term Не указан, но по эффективности этот канал находится в середине списка. Самым эффективным каналом привлечения стал Ida, где почти каждая четвертая активность приводила к пожертвованию. Email – очень неэффективный канал привлечения, только 0.66% всех активностей заканчиваются пожертвованием."
   ]
  },
  {
   "cell_type": "markdown",
   "id": "0c5a4071-c92f-45ed-8092-0c18db3113ef",
   "metadata": {},
   "source": [
    "**Рекомендации:**\n",
    "\n",
    "Расширение базы точек контактов доноров может помочь вернуть \"спящих клиентов\". Необходимо расширять каналы привлечения пользователей. Основной канал связи с пользователями – Email, его эффективность составляет всего 0.66%, что указывает на низкую конверсию активностей в платежи. Наиболее эффективным каналом стал Ida, реклама у известных блогеров хорошо привлекает новых пользователей, однако без данных по затратам сложно оценить окупаемость полученных платежей.\n",
    "\n",
    "Важно собирать номера мобильных телефонов при регистрации или активном действии, объясняя это необходимостью более оперативного и удобного информирования. Использование SMS-уведомлений и мессенджеров с напоминаниями о пожертвованиях, ссылками на отчеты и новостями может значительно повысить вовлеченность.\n",
    "\n",
    "Стимулирование рекуррентных пожертвований играет ключевую роль. Нужно объяснять значимость регулярных пожертвований, обеспечивать простую настройку и отмену регулярных платежей. Возможно использование идей для стимулирования, таких как округление счетов совместно с банками. Программы лояльности и поощрения, прозрачность и отчетность, а также мобильные приложения и автоматизация помогут в этом процессе.\n",
    "\n",
    "Необходимо оптимизировать частоту и контент сообщений, чтобы они были краткими и информативными, избегая чрезмерного количества отправок. Использование данных для создания персонализированных предложений и благодарностей, постоянный анализ поведения доноров и обновление RFM-анализа, а также прозрачная отчетность о том, как используются пожертвования, будут способствовать повышению доверия и вовлеченности доноров в деятельность фонда.\n",
    "\n",
    "Эти шаги помогут эффективно предложить рекуррентные платежи донорам, которые готовы к этому, и обеспечат стабильное финансирование для реализации благотворительных проектов.\n",
    "\n",
    "\n",
    "\n",
    "\n",
    "\n",
    "\n"
   ]
  },
  {
   "cell_type": "code",
   "execution_count": null,
   "id": "3a853323-4273-4e87-8a3d-349bb32f0669",
   "metadata": {},
   "outputs": [],
   "source": []
  },
  {
   "cell_type": "code",
   "execution_count": null,
   "id": "297b5ebd-1ea7-4db9-8e56-370bad8255dd",
   "metadata": {},
   "outputs": [],
   "source": []
  },
  {
   "cell_type": "code",
   "execution_count": null,
   "id": "90565637-fd0a-40d8-a11d-c2510b1472c9",
   "metadata": {},
   "outputs": [],
   "source": []
  }
 ],
 "metadata": {
  "kernelspec": {
   "display_name": "Python 3 (ipykernel)",
   "language": "python",
   "name": "python3"
  },
  "language_info": {
   "codemirror_mode": {
    "name": "ipython",
    "version": 3
   },
   "file_extension": ".py",
   "mimetype": "text/x-python",
   "name": "python",
   "nbconvert_exporter": "python",
   "pygments_lexer": "ipython3",
   "version": "3.9.19"
  },
  "toc": {
   "base_numbering": 1,
   "nav_menu": {},
   "number_sections": true,
   "sideBar": true,
   "skip_h1_title": true,
   "title_cell": "Table of Contents",
   "title_sidebar": "Contents",
   "toc_cell": false,
   "toc_position": {
    "height": "calc(100% - 180px)",
    "left": "10px",
    "top": "150px",
    "width": "384px"
   },
   "toc_section_display": true,
   "toc_window_display": true
  }
 },
 "nbformat": 4,
 "nbformat_minor": 5
}
